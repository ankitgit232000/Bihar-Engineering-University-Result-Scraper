{
  "nbformat": 4,
  "nbformat_minor": 0,
  "metadata": {
    "colab": {
      "provenance": []
    },
    "kernelspec": {
      "name": "python3",
      "display_name": "Python 3"
    },
    "language_info": {
      "name": "python"
    }
  },
  "cells": [
    {
      "cell_type": "code",
      "execution_count": null,
      "metadata": {
        "id": "nz2PQdKf0f6y",
        "colab": {
          "base_uri": "https://localhost:8080/"
        },
        "outputId": "db990cb7-4c75-4f4f-aea6-d061b97ac712"
      },
      "outputs": [
        {
          "name": "stdout",
          "output_type": "stream",
          "text": [
            "Enter Start reg_no 20101135010\n",
            "Enter End reg_no 20101135060\n"
          ]
        }
      ],
      "source": [
        "import requests\n",
        "from bs4 import BeautifulSoup\n",
        "import pandas as pd\n",
        "Student_Name=[]\n",
        "Reg_no=[]\n",
        "SEM=[]\n",
        "SGPA=[]\n",
        "CGPA=[]\n",
        "\n",
        "url=\"http://results.beup.ac.in/ResultsBTech7thSem2023_B2020Pub.aspx?Sem=VII&RegNo=20101135010\"\n",
        "start_reg_no=int(input(\"Enter Start reg_no \"))  #20101135010\n",
        "end_reg_no=int(input(\"Enter End reg_no \"))      #20101135060\n"
      ]
    },
    {
      "cell_type": "code",
      "source": [
        "# url=f\"http://results.beup.ac.in/ResultsBTech7thSem2023_B2020Pub.aspx?Sem=VII&RegNo=20101135010\"\n",
        "# req=requests.get(url)\n",
        "# content=BeautifulSoup(req.content,'html.parser')\n",
        "# tr=content.find_all(\"tr\")\n",
        "\n",
        "# reg_no=tr[7].find(\"span\").text.strip()\n",
        "# name=tr[8].find(\"span\").text.strip()\n",
        "# sgpa=tr[21].find(\"span\").text.strip()\n",
        "# sem=tr[22].find_all(\"td\")[4:13]\n",
        "# sem = [i.text.strip() for i in sem]\n",
        "# cgpa = sem[-1]\n",
        "# sem.pop()\n",
        "\n",
        "# Student_Name.append(name)\n",
        "# Reg_no.append(reg_no)\n",
        "# SGPA.append(sgpa)\n",
        "# CGPA.append(cgpa)\n",
        "# SEM.append(sem)\n",
        "# x = tr[22].find_all(\"td\")[4:11]\n",
        "# print(x)\n",
        "# for i in range(len(x)):\n",
        "#   print(i, x[i])"
      ],
      "metadata": {
        "id": "qNtgnmvB0Ivj"
      },
      "execution_count": null,
      "outputs": []
    },
    {
      "cell_type": "code",
      "source": [
        "for reg in range(start_reg_no,end_reg_no+1):\n",
        "  try:\n",
        "    url=f\"http://results.beup.ac.in/ResultsBTech7thSem2023_B2020Pub.aspx?Sem=VII&RegNo={reg}\"\n",
        "    req=requests.get(url)\n",
        "    content=BeautifulSoup(req.content,'html.parser')\n",
        "    tr=content.find_all(\"tr\")\n",
        "\n",
        "    reg_no=tr[7].find(\"span\").text.strip()\n",
        "    name=tr[8].find(\"span\").text.strip()\n",
        "    sgpa=tr[21].find(\"span\").text.strip()\n",
        "    sem=tr[22].find_all(\"td\")[4:13]\n",
        "    sem = [i.text.strip() for i in sem]\n",
        "    cgpa = sem[-1]\n",
        "    sem.pop()\n",
        "\n",
        "    Student_Name.append(name)\n",
        "    Reg_no.append(reg_no)\n",
        "    SGPA.append(sgpa)\n",
        "    CGPA.append(cgpa)\n",
        "    SEM.append(sem)\n",
        "\n",
        "    print(f\"Result for {reg}: DONE!\")\n",
        "  except:\n",
        "    print(f\"Result for {reg}: FAILED!\")\n",
        "    pass"
      ],
      "metadata": {
        "colab": {
          "base_uri": "https://localhost:8080/"
        },
        "id": "S3O5OX1D0pEZ",
        "outputId": "e9b41b3e-91bf-4058-d95d-79b978641fc5"
      },
      "execution_count": null,
      "outputs": [
        {
          "output_type": "stream",
          "name": "stdout",
          "text": [
            "Result for 20101135010: DONE!\n",
            "Result for 20101135011: DONE!\n",
            "Result for 20101135012: DONE!\n",
            "Result for 20101135013: DONE!\n",
            "Result for 20101135014: DONE!\n",
            "Result for 20101135015: DONE!\n",
            "Result for 20101135016: DONE!\n",
            "Result for 20101135017: FAILED!\n",
            "Result for 20101135018: DONE!\n",
            "Result for 20101135019: DONE!\n",
            "Result for 20101135020: DONE!\n",
            "Result for 20101135021: DONE!\n",
            "Result for 20101135022: DONE!\n",
            "Result for 20101135023: DONE!\n",
            "Result for 20101135024: DONE!\n",
            "Result for 20101135025: DONE!\n",
            "Result for 20101135026: DONE!\n",
            "Result for 20101135027: DONE!\n",
            "Result for 20101135028: DONE!\n",
            "Result for 20101135029: DONE!\n",
            "Result for 20101135030: DONE!\n",
            "Result for 20101135031: DONE!\n",
            "Result for 20101135032: DONE!\n",
            "Result for 20101135033: DONE!\n",
            "Result for 20101135034: DONE!\n",
            "Result for 20101135035: DONE!\n",
            "Result for 20101135036: DONE!\n",
            "Result for 20101135037: DONE!\n",
            "Result for 20101135038: DONE!\n",
            "Result for 20101135039: DONE!\n",
            "Result for 20101135040: DONE!\n",
            "Result for 20101135041: DONE!\n",
            "Result for 20101135042: DONE!\n",
            "Result for 20101135043: DONE!\n",
            "Result for 20101135044: FAILED!\n",
            "Result for 20101135045: DONE!\n",
            "Result for 20101135046: DONE!\n",
            "Result for 20101135047: DONE!\n",
            "Result for 20101135048: DONE!\n",
            "Result for 20101135049: DONE!\n",
            "Result for 20101135050: DONE!\n",
            "Result for 20101135051: FAILED!\n",
            "Result for 20101135052: DONE!\n",
            "Result for 20101135053: DONE!\n",
            "Result for 20101135054: DONE!\n",
            "Result for 20101135055: DONE!\n",
            "Result for 20101135056: DONE!\n",
            "Result for 20101135057: FAILED!\n",
            "Result for 20101135058: DONE!\n",
            "Result for 20101135059: DONE!\n",
            "Result for 20101135060: FAILED!\n"
          ]
        }
      ]
    },
    {
      "cell_type": "code",
      "source": [
        "print(Student_Name)\n",
        "print(Reg_no)\n",
        "print(SGPA)\n",
        "print(CGPA)\n",
        "print(SEM)"
      ],
      "metadata": {
        "colab": {
          "base_uri": "https://localhost:8080/"
        },
        "id": "bSy4pD8Z1Cas",
        "outputId": "b548736b-a8f5-4854-ef71-b7a418ac5c96"
      },
      "execution_count": null,
      "outputs": [
        {
          "output_type": "stream",
          "name": "stdout",
          "text": [
            "['ADITI', 'ADITI', 'ROHIT KUMAR', 'BASANT KUMAR', 'RATNESH KUMAR', 'ADITYA DEV', 'GAURAV RANJAN', 'RAJYA LAXMI SAHIBA', 'AMAN RAJ', 'SACHIN KUMAR', 'ABHISHEK KUMAR', 'DILIP KUMAR', 'UJJWAL KUMAR', 'DEEPAK KUMAR', 'SOURAV KUMAR', 'ROHIT KUMAR MANDAL', 'RAJAN RAJ', 'PRADYUMN KUMAR', 'CHINTU KUMAR', 'AMIT KUMAR', 'ABHAY KUMAR', 'RAVI RANJAN SAH', 'AYUSH RONIT', 'ANKIT KUMAR PANDEY', 'ADITYA RAJ', 'RAJESH KUMAR YADAV', 'SHIV MANI KUMAR', 'PRINCE KUMAR', 'STUTI CHANDRA', 'PRITY RANJAN KUMARI', 'MAUSAM KUMARI', 'NISHU KUMARI', 'DEEPIKA RAJ', 'DIPMALIKA', 'ATUL KUMAR', 'PRIYADARSHI VIKASH', 'ANJALI KUMARI', 'ABHISHEK RAJ CHAUHAN', 'ANKIT KUMAR', 'AMAN KUMAR', 'SAURABH SUMAN', 'PINTU KUMAR', 'DHIRENDRA KUMAR AKELA', 'SHIVAM ANAND', 'ALOK RAJ', 'ABHISHEK SINGH', 'KUNDAN KUMAR', 'ADITI', 'ROHIT KUMAR', 'BASANT KUMAR', 'RATNESH KUMAR', 'ADITYA DEV', 'GAURAV RANJAN', 'RAJYA LAXMI SAHIBA', 'AMAN RAJ', 'SACHIN KUMAR', 'ABHISHEK KUMAR', 'DILIP KUMAR', 'UJJWAL KUMAR', 'DEEPAK KUMAR', 'SOURAV KUMAR', 'ROHIT KUMAR MANDAL', 'RAJAN RAJ', 'PRADYUMN KUMAR', 'CHINTU KUMAR', 'AMIT KUMAR', 'ABHAY KUMAR', 'RAVI RANJAN SAH', 'AYUSH RONIT', 'ANKIT KUMAR PANDEY', 'ADITYA RAJ', 'RAJESH KUMAR YADAV', 'SHIV MANI KUMAR', 'PRINCE KUMAR', 'STUTI CHANDRA', 'PRITY RANJAN KUMARI', 'MAUSAM KUMARI', 'NISHU KUMARI', 'DEEPIKA RAJ', 'DIPMALIKA', 'ATUL KUMAR', 'PRIYADARSHI VIKASH', 'ANJALI KUMARI', 'ABHISHEK RAJ CHAUHAN', 'ANKIT KUMAR', 'AMAN KUMAR', 'SAURABH SUMAN', 'PINTU KUMAR', 'DHIRENDRA KUMAR AKELA', 'SHIVAM ANAND', 'ALOK RAJ', 'ABHISHEK SINGH', 'KUNDAN KUMAR']\n",
            "['20101135010', '20101135010', '20101135011', '20101135012', '20101135013', '20101135014', '20101135015', '20101135016', '20101135018', '20101135019', '20101135020', '20101135021', '20101135022', '20101135023', '20101135024', '20101135025', '20101135026', '20101135027', '20101135028', '20101135029', '20101135030', '20101135031', '20101135032', '20101135033', '20101135034', '20101135035', '20101135036', '20101135037', '20101135038', '20101135039', '20101135040', '20101135041', '20101135042', '20101135043', '20101135045', '20101135046', '20101135047', '20101135048', '20101135049', '20101135050', '20101135052', '20101135053', '20101135054', '20101135055', '20101135056', '20101135058', '20101135059', '20101135010', '20101135011', '20101135012', '20101135013', '20101135014', '20101135015', '20101135016', '20101135018', '20101135019', '20101135020', '20101135021', '20101135022', '20101135023', '20101135024', '20101135025', '20101135026', '20101135027', '20101135028', '20101135029', '20101135030', '20101135031', '20101135032', '20101135033', '20101135034', '20101135035', '20101135036', '20101135037', '20101135038', '20101135039', '20101135040', '20101135041', '20101135042', '20101135043', '20101135045', '20101135046', '20101135047', '20101135048', '20101135049', '20101135050', '20101135052', '20101135053', '20101135054', '20101135055', '20101135056', '20101135058', '20101135059']\n",
            "['7.92', '7.92', '5.64', '7.80', '8.64', '8.00', '7.36', '7.36', '6.96', '7.56', '8.04', '7.80', '7.36', '7.56', '8.32', '8.00', '8.00', '6.40', '5.72', '7.36', '8.32', '8.20', '7.44', '8.44', '6.08', '8.32', '8.52', '8.20', '8.44', '8.36', '7.76', '8.24', '8.64', '8.08', '8.24', '8.08', '8.64', '8.36', '7.48', '7.48', '6.00', '8.00', '6.96', '7.80', '7.92', '8.20', '7.96', '7.92', '5.64', '7.80', '8.64', '8.00', '7.36', '7.36', '6.96', '7.56', '8.04', '7.80', '7.36', '7.56', '8.32', '8.00', '8.00', '6.40', '5.72', '7.36', '8.32', '8.20', '7.44', '8.44', '6.08', '8.32', '8.52', '8.20', '8.44', '8.36', '7.76', '8.24', '8.64', '8.08', '8.24', '8.08', '8.64', '8.36', '7.48', '7.48', '6.00', '8.00', '6.96', '7.80', '7.92', '8.20', '7.96']\n",
            "['7.42', '7.42', '5.37', '7.68', '8.03', '7.65', '6.21', '6.89', '6.87', '7.30', '7.59', '6.66', '6.77', '6.67', '7.49', '7.46', '7.56', '6.01', '6.19', '6.57', '7.53', '7.32', '7.18', '7.62', '6.59', '7.95', '7.37', '8.11', '8.28', '7.79', '6.94', '7.85', '8.14', '7.31', '7.65', '8.00', '8.13', '8.00', '6.93', '7.38', '6.90', '7.92', '7.14', '7.58', '7.44', '7.65', '7.78', '7.42', '5.37', '7.68', '8.03', '7.65', '6.21', '6.89', '6.87', '7.30', '7.59', '6.66', '6.77', '6.67', '7.49', '7.46', '7.56', '6.01', '6.19', '6.57', '7.53', '7.32', '7.18', '7.62', '6.59', '7.95', '7.37', '8.11', '8.28', '7.79', '6.94', '7.85', '8.14', '7.31', '7.65', '8.00', '8.13', '8.00', '6.93', '7.38', '6.90', '7.92', '7.14', '7.58', '7.44', '7.65', '7.78']\n",
            "[['9.60', '8.44', '8.50', '6.58', '5.70', '6.20', '7.92', 'NA'], ['9.60', '8.44', '8.50', '6.58', '5.70', '6.20', '7.92', 'NA'], ['8.91', '5.49', '6.92', '5.73', '3.13', '2.85', '5.64', 'NA'], ['8.97', '8.10', '8.00', '7.50', '7.13', '6.65', '7.80', 'NA'], ['9.69', '8.63', '8.33', '7.96', '6.90', '6.65', '8.64', 'NA'], ['9.54', '8.98', '7.50', '7.23', '6.60', '6.50', '8.00', 'NA'], ['8.83', '7.51', '7.58', '6.12', '4.30', '2.45', '7.36', 'NA'], ['9.40', '8.10', '7.79', '6.46', '5.47', '4.45', '7.36', 'NA'], ['9.20', '7.76', '7.63', '6.65', '5.57', '5.10', '6.96', 'NA'], ['9.34', '7.71', '7.54', '6.88', '6.80', '5.75', '7.56', 'NA'], ['9.69', '8.68', '8.00', '8.27', '6.57', '4.20', '8.04', 'NA'], ['9.31', '7.88', '7.54', '6.46', '4.77', '3.70', '7.80', 'NA'], ['9.31', '7.76', '7.67', '6.85', '4.57', '4.95', '7.36', 'NA'], ['8.83', '6.76', '7.63', '6.42', '5.57', '4.40', '7.56', 'NA'], ['9.37', '7.37', '7.67', '7.50', '6.53', '6.10', '8.32', 'NA'], ['8.74', '7.51', '7.83', '6.69', '7.23', '6.50', '8.00', 'NA'], ['9.51', '8.12', '7.58', '7.65', '6.57', '6.05', '8.00', 'NA'], ['9.40', '7.39', '6.83', '5.65', '3.80', '3.95', '6.40', 'NA'], ['9.46', '8.02', '7.79', '6.27', '3.47', '4.10', '5.72', 'NA'], ['9.14', '7.54', '7.29', '6.69', '4.47', '4.45', '7.36', 'NA'], ['9.31', '8.54', '7.63', '7.69', '6.40', '5.30', '8.32', 'NA'], ['9.23', '8.24', '7.25', '6.96', '6.03', '6.05', '8.20', 'NA'], ['9.37', '7.34', '7.42', '6.77', '6.60', '5.90', '7.44', 'NA'], ['9.31', '7.73', '8.00', '7.69', '6.53', '6.10', '8.44', 'NA'], ['9.23', '7.56', '7.67', '6.88', '4.67', '5.15', '6.08', 'NA'], ['8.74', '8.39', '7.58', '7.96', '7.87', '6.90', '8.32', 'NA'], ['9.43', '7.15', '7.50', '6.46', '6.80', '6.20', '8.52', 'NA'], ['9.54', '8.29', '7.75', '7.88', '7.87', '7.65', '8.20', 'NA'], ['9.60', '9.02', '8.46', '7.58', '7.93', '7.35', '8.44', 'NA'], ['9.23', '8.39', '8.17', '6.96', '7.53', '6.20', '8.36', 'NA'], ['9.54', '7.56', '8.00', '6.54', '5.27', '4.75', '7.76', 'NA'], ['9.20', '8.93', '7.75', '7.42', '6.97', '7.10', '8.24', 'NA'], ['9.31', '8.20', '8.33', '8.00', '7.43', '7.45', '8.64', 'NA'], ['9.51', '8.29', '7.75', '7.08', '5.13', '6.45', '8.08', 'NA'], ['9.06', '7.80', '8.04', '7.38', '7.10', '6.20', '8.24', 'NA'], ['9.37', '7.80', '8.08', '7.81', '8.23', '6.70', '8.08', 'NA'], ['9.43', '8.39', '8.04', '8.08', '7.23', '7.65', '8.64', 'NA'], ['9.46', '7.93', '7.96', '7.65', '7.83', '7.10', '8.36', 'NA'], ['8.83', '7.49', '7.71', '7.35', '5.23', '5.05', '7.48', 'NA'], ['9.14', '8.07', '7.71', '6.88', '6.67', '6.30', '7.48', 'NA'], ['9.17', '7.78', '7.83', '6.77', '6.17', '5.30', '6.00', 'NA'], ['9.23', '7.68', '7.25', '7.92', '8.03', '7.55', '8.00', 'NA'], ['9.06', '7.90', '8.08', '7.69', '5.53', '5.50', '6.96', 'NA'], ['8.77', '8.15', '7.54', '7.35', '7.17', '6.65', '7.80', 'NA'], ['9.14', '7.15', '7.79', '7.58', '6.37', '6.65', '7.92', 'NA'], ['9.60', '7.93', '7.75', '7.58', '6.70', '6.35', '8.20', 'NA'], ['9.46', '8.44', '8.25', '7.50', '7.23', '6.00', '7.96', 'NA'], ['9.60', '8.44', '8.50', '6.58', '5.70', '6.20', '7.92', 'NA'], ['8.91', '5.49', '6.92', '5.73', '3.13', '2.85', '5.64', 'NA'], ['8.97', '8.10', '8.00', '7.50', '7.13', '6.65', '7.80', 'NA'], ['9.69', '8.63', '8.33', '7.96', '6.90', '6.65', '8.64', 'NA'], ['9.54', '8.98', '7.50', '7.23', '6.60', '6.50', '8.00', 'NA'], ['8.83', '7.51', '7.58', '6.12', '4.30', '2.45', '7.36', 'NA'], ['9.40', '8.10', '7.79', '6.46', '5.47', '4.45', '7.36', 'NA'], ['9.20', '7.76', '7.63', '6.65', '5.57', '5.10', '6.96', 'NA'], ['9.34', '7.71', '7.54', '6.88', '6.80', '5.75', '7.56', 'NA'], ['9.69', '8.68', '8.00', '8.27', '6.57', '4.20', '8.04', 'NA'], ['9.31', '7.88', '7.54', '6.46', '4.77', '3.70', '7.80', 'NA'], ['9.31', '7.76', '7.67', '6.85', '4.57', '4.95', '7.36', 'NA'], ['8.83', '6.76', '7.63', '6.42', '5.57', '4.40', '7.56', 'NA'], ['9.37', '7.37', '7.67', '7.50', '6.53', '6.10', '8.32', 'NA'], ['8.74', '7.51', '7.83', '6.69', '7.23', '6.50', '8.00', 'NA'], ['9.51', '8.12', '7.58', '7.65', '6.57', '6.05', '8.00', 'NA'], ['9.40', '7.39', '6.83', '5.65', '3.80', '3.95', '6.40', 'NA'], ['9.46', '8.02', '7.79', '6.27', '3.47', '4.10', '5.72', 'NA'], ['9.14', '7.54', '7.29', '6.69', '4.47', '4.45', '7.36', 'NA'], ['9.31', '8.54', '7.63', '7.69', '6.40', '5.30', '8.32', 'NA'], ['9.23', '8.24', '7.25', '6.96', '6.03', '6.05', '8.20', 'NA'], ['9.37', '7.34', '7.42', '6.77', '6.60', '5.90', '7.44', 'NA'], ['9.31', '7.73', '8.00', '7.69', '6.53', '6.10', '8.44', 'NA'], ['9.23', '7.56', '7.67', '6.88', '4.67', '5.15', '6.08', 'NA'], ['8.74', '8.39', '7.58', '7.96', '7.87', '6.90', '8.32', 'NA'], ['9.43', '7.15', '7.50', '6.46', '6.80', '6.20', '8.52', 'NA'], ['9.54', '8.29', '7.75', '7.88', '7.87', '7.65', '8.20', 'NA'], ['9.60', '9.02', '8.46', '7.58', '7.93', '7.35', '8.44', 'NA'], ['9.23', '8.39', '8.17', '6.96', '7.53', '6.20', '8.36', 'NA'], ['9.54', '7.56', '8.00', '6.54', '5.27', '4.75', '7.76', 'NA'], ['9.20', '8.93', '7.75', '7.42', '6.97', '7.10', '8.24', 'NA'], ['9.31', '8.20', '8.33', '8.00', '7.43', '7.45', '8.64', 'NA'], ['9.51', '8.29', '7.75', '7.08', '5.13', '6.45', '8.08', 'NA'], ['9.06', '7.80', '8.04', '7.38', '7.10', '6.20', '8.24', 'NA'], ['9.37', '7.80', '8.08', '7.81', '8.23', '6.70', '8.08', 'NA'], ['9.43', '8.39', '8.04', '8.08', '7.23', '7.65', '8.64', 'NA'], ['9.46', '7.93', '7.96', '7.65', '7.83', '7.10', '8.36', 'NA'], ['8.83', '7.49', '7.71', '7.35', '5.23', '5.05', '7.48', 'NA'], ['9.14', '8.07', '7.71', '6.88', '6.67', '6.30', '7.48', 'NA'], ['9.17', '7.78', '7.83', '6.77', '6.17', '5.30', '6.00', 'NA'], ['9.23', '7.68', '7.25', '7.92', '8.03', '7.55', '8.00', 'NA'], ['9.06', '7.90', '8.08', '7.69', '5.53', '5.50', '6.96', 'NA'], ['8.77', '8.15', '7.54', '7.35', '7.17', '6.65', '7.80', 'NA'], ['9.14', '7.15', '7.79', '7.58', '6.37', '6.65', '7.92', 'NA'], ['9.60', '7.93', '7.75', '7.58', '6.70', '6.35', '8.20', 'NA'], ['9.46', '8.44', '8.25', '7.50', '7.23', '6.00', '7.96', 'NA']]\n"
          ]
        }
      ]
    },
    {
      "cell_type": "code",
      "source": [
        "print(len(Student_Name))\n",
        "print(len(Reg_no))\n",
        "print(len(SGPA))\n",
        "print(len(CGPA))\n",
        "print(len(SEM))"
      ],
      "metadata": {
        "id": "sLLcNt_i1EpV"
      },
      "execution_count": null,
      "outputs": []
    },
    {
      "cell_type": "code",
      "source": [
        "import csv\n",
        "length = len(SEM)\n",
        "with open('results.csv', 'w') as f:\n",
        "  writer = csv.writer(f)\n",
        "  writer.writerow(['RegNo', 'Name', 'CGPA', 'SGPA', 'SEM-1', 'SEM-2', 'SEM-3','SEM-4','SEM-5','SEM-6','SEM-7','SEM-8'])\n",
        "  for i in range(length):\n",
        "    row = [Reg_no[i], Student_Name[i], CGPA[i], SGPA[i], *SEM[i]]\n",
        "    writer.writerow(row)"
      ],
      "metadata": {
        "id": "QpPmLQ3p1HFi"
      },
      "execution_count": null,
      "outputs": []
    },
    {
      "cell_type": "code",
      "source": [
        "from google.colab import files\n",
        "files.download(\"results.csv\")\n"
      ],
      "metadata": {
        "id": "hOCkmw8N1JaM",
        "colab": {
          "base_uri": "https://localhost:8080/",
          "height": 17
        },
        "outputId": "a46db09d-769e-4a13-c93b-954d723908f7"
      },
      "execution_count": null,
      "outputs": [
        {
          "output_type": "display_data",
          "data": {
            "text/plain": [
              "<IPython.core.display.Javascript object>"
            ],
            "application/javascript": [
              "\n",
              "    async function download(id, filename, size) {\n",
              "      if (!google.colab.kernel.accessAllowed) {\n",
              "        return;\n",
              "      }\n",
              "      const div = document.createElement('div');\n",
              "      const label = document.createElement('label');\n",
              "      label.textContent = `Downloading \"${filename}\": `;\n",
              "      div.appendChild(label);\n",
              "      const progress = document.createElement('progress');\n",
              "      progress.max = size;\n",
              "      div.appendChild(progress);\n",
              "      document.body.appendChild(div);\n",
              "\n",
              "      const buffers = [];\n",
              "      let downloaded = 0;\n",
              "\n",
              "      const channel = await google.colab.kernel.comms.open(id);\n",
              "      // Send a message to notify the kernel that we're ready.\n",
              "      channel.send({})\n",
              "\n",
              "      for await (const message of channel.messages) {\n",
              "        // Send a message to notify the kernel that we're ready.\n",
              "        channel.send({})\n",
              "        if (message.buffers) {\n",
              "          for (const buffer of message.buffers) {\n",
              "            buffers.push(buffer);\n",
              "            downloaded += buffer.byteLength;\n",
              "            progress.value = downloaded;\n",
              "          }\n",
              "        }\n",
              "      }\n",
              "      const blob = new Blob(buffers, {type: 'application/binary'});\n",
              "      const a = document.createElement('a');\n",
              "      a.href = window.URL.createObjectURL(blob);\n",
              "      a.download = filename;\n",
              "      div.appendChild(a);\n",
              "      a.click();\n",
              "      div.remove();\n",
              "    }\n",
              "  "
            ]
          },
          "metadata": {}
        },
        {
          "output_type": "display_data",
          "data": {
            "text/plain": [
              "<IPython.core.display.Javascript object>"
            ],
            "application/javascript": [
              "download(\"download_c05de78f-1037-404b-a0de-6249a7cdf08e\", \"results.csv\", 3575)"
            ]
          },
          "metadata": {}
        }
      ]
    }
  ]
}