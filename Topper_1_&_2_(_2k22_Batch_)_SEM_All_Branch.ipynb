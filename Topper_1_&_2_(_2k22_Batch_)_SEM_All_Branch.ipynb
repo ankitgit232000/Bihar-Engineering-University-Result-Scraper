{
  "nbformat": 4,
  "nbformat_minor": 0,
  "metadata": {
    "colab": {
      "provenance": []
    },
    "kernelspec": {
      "name": "python3",
      "display_name": "Python 3"
    },
    "language_info": {
      "name": "python"
    }
  },
  "cells": [
    {
      "cell_type": "markdown",
      "source": [
        "**To Run this Press Ctrl+F9**"
      ],
      "metadata": {
        "id": "ZqEKUNvfPq5M"
      }
    },
    {
      "cell_type": "code",
      "execution_count": 1,
      "metadata": {
        "colab": {
          "base_uri": "https://localhost:8080/"
        },
        "id": "bvv4R13i8kEE",
        "outputId": "a70331a6-3143-4a26-ed5f-f1b336b2d441"
      },
      "outputs": [
        {
          "name": "stdout",
          "output_type": "stream",
          "text": [
            "Enter Start reg_no 22102135001\n",
            "Enter End reg_no 22102135040\n"
          ]
        }
      ],
      "source": [
        "import requests\n",
        "from bs4 import BeautifulSoup\n",
        "import pandas as pd\n",
        "Student_Name=[]\n",
        "Reg_no=[]\n",
        "SEM=[]\n",
        "SGPA=[]\n",
        "CGPA=[]\n",
        "start_reg_no=int(input(\"Enter Start reg_no \"))  #22102135001\n",
        "end_reg_no=int(input(\"Enter End reg_no \"))      #22102135040\n",
        "\n",
        "#http://results.beup.ac.in/ResultsBTech2ndSem2023_B2022Pub.aspx?Sem=II&RegNo=22102135002"
      ]
    },
    {
      "cell_type": "code",
      "source": [
        "for reg in range(start_reg_no,end_reg_no+1):\n",
        "  try:\n",
        "    url=f\"http://results.beup.ac.in/ResultsBTech2ndSem2023_B2022Pub.aspx?Sem=II&RegNo={reg}\"\n",
        "    req=requests.get(url)\n",
        "    content=BeautifulSoup(req.content,'html.parser')\n",
        "    tr=content.find_all(\"tr\")\n",
        "    # for i in range(len(tr)):\n",
        "    #    print(i,tr[i])\n",
        "    # break\n",
        "\n",
        "\n",
        "    reg_no=tr[7].find(\"span\").text.strip()\n",
        "    name=tr[8].find(\"span\").text.strip()\n",
        "    sgpa=tr[23].find(\"span\").text.strip()\n",
        "    sem=tr[29].find_all(\"td\")\n",
        "    sem = [i.text.strip() for i in sem]\n",
        "    cgpa = sem[-1]\n",
        "    sem.pop()\n",
        "\n",
        "\n",
        "    Student_Name.append(name)\n",
        "    Reg_no.append(reg_no)\n",
        "    SGPA.append(sgpa)\n",
        "    CGPA.append(cgpa)\n",
        "    SEM.append(sem)\n",
        "\n",
        "    print(f\"Result for {reg}: DONE!\")\n",
        "  except:\n",
        "    print(f\"Result for {reg}: FAILED!\")\n",
        "    pass\n"
      ],
      "metadata": {
        "colab": {
          "base_uri": "https://localhost:8080/"
        },
        "id": "43VLfKhE_SsN",
        "outputId": "4b3ba09d-d719-40bd-e395-338f42396f26"
      },
      "execution_count": 2,
      "outputs": [
        {
          "output_type": "stream",
          "name": "stdout",
          "text": [
            "Result for 22102135001: FAILED!\n",
            "Result for 22102135002: DONE!\n",
            "Result for 22102135003: DONE!\n",
            "Result for 22102135004: DONE!\n",
            "Result for 22102135005: DONE!\n",
            "Result for 22102135006: FAILED!\n",
            "Result for 22102135007: DONE!\n",
            "Result for 22102135008: DONE!\n",
            "Result for 22102135009: DONE!\n",
            "Result for 22102135010: DONE!\n",
            "Result for 22102135011: DONE!\n",
            "Result for 22102135012: FAILED!\n",
            "Result for 22102135013: DONE!\n",
            "Result for 22102135014: DONE!\n",
            "Result for 22102135015: DONE!\n",
            "Result for 22102135016: DONE!\n",
            "Result for 22102135017: DONE!\n",
            "Result for 22102135018: DONE!\n",
            "Result for 22102135019: FAILED!\n",
            "Result for 22102135020: FAILED!\n",
            "Result for 22102135021: FAILED!\n",
            "Result for 22102135022: DONE!\n",
            "Result for 22102135023: DONE!\n",
            "Result for 22102135024: FAILED!\n",
            "Result for 22102135025: FAILED!\n",
            "Result for 22102135026: FAILED!\n",
            "Result for 22102135027: FAILED!\n",
            "Result for 22102135028: FAILED!\n",
            "Result for 22102135029: FAILED!\n",
            "Result for 22102135030: FAILED!\n",
            "Result for 22102135031: FAILED!\n",
            "Result for 22102135032: FAILED!\n",
            "Result for 22102135033: FAILED!\n",
            "Result for 22102135034: FAILED!\n",
            "Result for 22102135035: FAILED!\n",
            "Result for 22102135036: FAILED!\n",
            "Result for 22102135037: FAILED!\n",
            "Result for 22102135038: FAILED!\n",
            "Result for 22102135039: FAILED!\n",
            "Result for 22102135040: FAILED!\n"
          ]
        }
      ]
    },
    {
      "cell_type": "code",
      "source": [
        "print(Student_Name)\n",
        "print(Reg_no)\n",
        "print(SGPA)\n",
        "print(CGPA)\n",
        "print(SEM)"
      ],
      "metadata": {
        "id": "YXHCoS4y_W0o",
        "colab": {
          "base_uri": "https://localhost:8080/"
        },
        "outputId": "2d84dd96-edc6-44ad-d3dc-95cd268a6d82"
      },
      "execution_count": 3,
      "outputs": [
        {
          "output_type": "stream",
          "name": "stdout",
          "text": [
            "['KARTIK OSHAN', 'RANJAN KUMAR', 'RUPESH KUMAR', 'SUKANKSHA RANI', 'KAJAL KUMARI', 'NEHA PATEL', 'PRIYESH KUMAR', 'SUMAN SAURAV', 'RUPESH KUMAR', 'ANURAG KUMAR', 'VISHAL KUMAR', 'CHANDAN KUMAR', 'VIVEK KUMAR', 'HARI SHANKAR', 'RAUSHAN KUMAR', 'ROHIT KUMAR', 'DHANANJAY KUMAR BHARDWAJ']\n",
            "['22102135002', '22102135003', '22102135004', '22102135005', '22102135007', '22102135008', '22102135009', '22102135010', '22102135011', '22102135013', '22102135014', '22102135015', '22102135016', '22102135017', '22102135018', '22102135022', '22102135023']\n",
            "['4.42', '5.80', '5.98', '3.44', '4.42', '5.12', '6.17', '4.76', '3.98', '4.56', '4.44', '4.56', '4.22', '3.83', '5.29', '7.46', '4.80']\n",
            "['4.00', '4.64', '6.18', '2.92', '3.95', '3.78', '5.92', '3.63', '3.74', '3.66', '3.46', '4.11', '3.29', '4.58', '4.61', '6.57', '4.76']\n",
            "[['3.51', '4.42', 'NA', 'NA', 'NA', 'NA', 'NA', 'NA'], ['3.29', '5.80', 'NA', 'NA', 'NA', 'NA', 'NA', 'NA'], ['6.43', '5.98', 'NA', 'NA', 'NA', 'NA', 'NA', 'NA'], ['2.31', '3.44', 'NA', 'NA', 'NA', 'NA', 'NA', 'NA'], ['3.40', '4.42', 'NA', 'NA', 'NA', 'NA', 'NA', 'NA'], ['2.20', '5.12', 'NA', 'NA', 'NA', 'NA', 'NA', 'NA'], ['5.63', '6.17', 'NA', 'NA', 'NA', 'NA', 'NA', 'NA'], ['2.31', '4.76', 'NA', 'NA', 'NA', 'NA', 'NA', 'NA'], ['3.46', '3.98', 'NA', 'NA', 'NA', 'NA', 'NA', 'NA'], ['2.60', '4.56', 'NA', 'NA', 'NA', 'NA', 'NA', 'NA'], ['2.31', '4.44', 'NA', 'NA', 'NA', 'NA', 'NA', 'NA'], ['3.57', '4.56', 'NA', 'NA', 'NA', 'NA', 'NA', 'NA'], ['2.20', '4.22', 'NA', 'NA', 'NA', 'NA', 'NA', 'NA'], ['5.46', '3.83', 'NA', 'NA', 'NA', 'NA', 'NA', 'NA'], ['3.80', '5.29', 'NA', 'NA', 'NA', 'NA', 'NA', 'NA'], ['5.51', '7.46', 'NA', 'NA', 'NA', 'NA', 'NA', 'NA'], ['4.71', '4.80', 'NA', 'NA', 'NA', 'NA', 'NA', 'NA']]\n"
          ]
        }
      ]
    },
    {
      "cell_type": "code",
      "source": [
        "print(len(Student_Name))\n",
        "print(len(Reg_no))\n",
        "print(len(SGPA))\n",
        "print(len(CGPA))\n",
        "print(len(SEM))"
      ],
      "metadata": {
        "id": "8eEdJo79_YwU",
        "colab": {
          "base_uri": "https://localhost:8080/"
        },
        "outputId": "b56f67ef-186a-4a79-8286-c127b08d961b"
      },
      "execution_count": 4,
      "outputs": [
        {
          "output_type": "stream",
          "name": "stdout",
          "text": [
            "17\n",
            "17\n",
            "17\n",
            "17\n",
            "17\n"
          ]
        }
      ]
    },
    {
      "cell_type": "code",
      "source": [
        "# import csv\n",
        "# length = len(SEM)\n",
        "# with open('results.csv', 'w') as f:\n",
        "#   writer = csv.writer(f)\n",
        "#   writer.writerow(['RegNo', 'Name', 'CGPA', 'SGPA', 'SEM-1', 'SEM-2', 'SEM-3','SEM-4','SEM-5','SEM-6','SEM-7','SEM-8'])       [Orginal]\n",
        "#   for i in range(length):\n",
        "#     row = [Reg_no[i], Student_Name[i], CGPA[i], SGPA[i], *SEM[i]]\n",
        "#     writer.writerow(row)\n",
        "\n",
        "\n",
        "\n",
        "# import csv\n",
        "# length = len(SEM)\n",
        "# with open('results.csv', 'w') as f:\n",
        "#   writer = csv.writer(f)\n",
        "#   writer.writerow(['RegNo', 'Name', 'CGPA','SGPA', 'SEM-1', 'SEM-2', 'SEM-3','SEM-4','SEM-5','SEM-6','SEM-7','SEM-8','AVG-1 & 2'])\n",
        "#   for i in range(length):\n",
        "#     print(i,SEM[i])\n",
        "#     if SEM[i][0]=='NA' or SEM[i][1]=='NA':\n",
        "\n",
        "#       continue\n",
        "#     row = [Reg_no[i], Student_Name[i], CGPA[i], SGPA[i], *SEM[i],(float(SEM[i][0])+float(SEM[i][1]))/2]\n",
        "#     writer.writerow(row)\n",
        "\n",
        "\n",
        "\n",
        "import csv\n",
        "length = len(SEM)\n",
        "with open('results_1&2.csv', 'w') as f:\n",
        "  writer = csv.writer(f)\n",
        "  writer.writerow(['RegNo', 'Name', 'CGPA','SGPA', 'SEM-1', 'SEM-2', 'SEM-3','SEM-4','SEM-5','SEM-6','SEM-7','SEM-8','AVG-1 & 2'])\n",
        "  for i in range(length):\n",
        "    print(i,SEM[i])\n",
        "    if SEM[i][0]=='NA' or SEM[i][1]=='NA':\n",
        "\n",
        "      continue\n",
        "\n",
        "    row = [Reg_no[i], Student_Name[i], CGPA[i], SGPA[i], *SEM[i],(float(SEM[i][0])+float(SEM[i][1]))/2]\n",
        "    writer.writerow(row)\n",
        "\n",
        "\n",
        "\n",
        "# import csv\n",
        "# length = len(SEM)\n",
        "# with open('results.csv', 'w') as f:\n",
        "#   writer = csv.writer(f)\n",
        "#   writer.writerow(['RegNo', 'Name', 'CGPA','SGPA', 'SEM-1', 'SEM-2', 'SEM-3','SEM-4','SEM-5','SEM-6','SEM-7','SEM-8','AVG-1 & 2'])\n",
        "#   for i in range(length):\n",
        "#     print(i,SEM[i])\n",
        "#     # Check if the list is empty before accessing elements\n",
        "#     if SEM[i] and (SEM[i][-1]=='NA' or SEM[i][0]=='NA'):\n",
        "\n",
        "#       continue\n",
        "\n",
        "#     # Make sure SEM[i] has at least two elements before calculating the average\n",
        "#     if len(SEM[i]) >= 2:\n",
        "#         row = [Reg_no[i], Student_Name[i], CGPA[i], SGPA[i], *SEM[i],(float(SEM[i][0])+float(SEM[i][1]))/2]\n",
        "#         writer.writerow(row)\n",
        "#     else:\n",
        "#         print(f\"Skipping row {i} due to insufficient data in SEM list.\")"
      ],
      "metadata": {
        "id": "K0lH78ha_a1F",
        "colab": {
          "base_uri": "https://localhost:8080/"
        },
        "outputId": "ec73370d-e5c6-47d7-9cf8-6e89cfbecac0"
      },
      "execution_count": 5,
      "outputs": [
        {
          "output_type": "stream",
          "name": "stdout",
          "text": [
            "0 ['3.51', '4.42', 'NA', 'NA', 'NA', 'NA', 'NA', 'NA']\n",
            "1 ['3.29', '5.80', 'NA', 'NA', 'NA', 'NA', 'NA', 'NA']\n",
            "2 ['6.43', '5.98', 'NA', 'NA', 'NA', 'NA', 'NA', 'NA']\n",
            "3 ['2.31', '3.44', 'NA', 'NA', 'NA', 'NA', 'NA', 'NA']\n",
            "4 ['3.40', '4.42', 'NA', 'NA', 'NA', 'NA', 'NA', 'NA']\n",
            "5 ['2.20', '5.12', 'NA', 'NA', 'NA', 'NA', 'NA', 'NA']\n",
            "6 ['5.63', '6.17', 'NA', 'NA', 'NA', 'NA', 'NA', 'NA']\n",
            "7 ['2.31', '4.76', 'NA', 'NA', 'NA', 'NA', 'NA', 'NA']\n",
            "8 ['3.46', '3.98', 'NA', 'NA', 'NA', 'NA', 'NA', 'NA']\n",
            "9 ['2.60', '4.56', 'NA', 'NA', 'NA', 'NA', 'NA', 'NA']\n",
            "10 ['2.31', '4.44', 'NA', 'NA', 'NA', 'NA', 'NA', 'NA']\n",
            "11 ['3.57', '4.56', 'NA', 'NA', 'NA', 'NA', 'NA', 'NA']\n",
            "12 ['2.20', '4.22', 'NA', 'NA', 'NA', 'NA', 'NA', 'NA']\n",
            "13 ['5.46', '3.83', 'NA', 'NA', 'NA', 'NA', 'NA', 'NA']\n",
            "14 ['3.80', '5.29', 'NA', 'NA', 'NA', 'NA', 'NA', 'NA']\n",
            "15 ['5.51', '7.46', 'NA', 'NA', 'NA', 'NA', 'NA', 'NA']\n",
            "16 ['4.71', '4.80', 'NA', 'NA', 'NA', 'NA', 'NA', 'NA']\n"
          ]
        }
      ]
    },
    {
      "cell_type": "code",
      "source": [],
      "metadata": {
        "id": "S_UrwK4ANOIz"
      },
      "execution_count": 5,
      "outputs": []
    },
    {
      "cell_type": "code",
      "source": [],
      "metadata": {
        "id": "PMLSD8-NNOU5"
      },
      "execution_count": 5,
      "outputs": []
    },
    {
      "cell_type": "code",
      "source": [
        "# Topper in 1&2 Sem in this Branch\n",
        "import pandas as pd\n",
        "df=pd.read_csv(\"results_1&2.csv\")\n",
        "final=df.sort_values(by=\"AVG-1 & 2\",ascending=False)\n",
        "final[['Name','RegNo','SEM-1','SEM-2',\"AVG-1 & 2\"]].head(1)\n"
      ],
      "metadata": {
        "id": "_qohj0i1_e4G",
        "colab": {
          "base_uri": "https://localhost:8080/",
          "height": 81
        },
        "outputId": "01a810ac-02e5-44f7-8598-d411b291fa09"
      },
      "execution_count": 6,
      "outputs": [
        {
          "output_type": "execute_result",
          "data": {
            "text/plain": [
              "           Name        RegNo  SEM-1  SEM-2  AVG-1 & 2\n",
              "15  ROHIT KUMAR  22102135022   5.51   7.46      6.485"
            ],
            "text/html": [
              "\n",
              "  <div id=\"df-32746e8d-ed8d-4f90-bffb-1a7ec6058a0e\" class=\"colab-df-container\">\n",
              "    <div>\n",
              "<style scoped>\n",
              "    .dataframe tbody tr th:only-of-type {\n",
              "        vertical-align: middle;\n",
              "    }\n",
              "\n",
              "    .dataframe tbody tr th {\n",
              "        vertical-align: top;\n",
              "    }\n",
              "\n",
              "    .dataframe thead th {\n",
              "        text-align: right;\n",
              "    }\n",
              "</style>\n",
              "<table border=\"1\" class=\"dataframe\">\n",
              "  <thead>\n",
              "    <tr style=\"text-align: right;\">\n",
              "      <th></th>\n",
              "      <th>Name</th>\n",
              "      <th>RegNo</th>\n",
              "      <th>SEM-1</th>\n",
              "      <th>SEM-2</th>\n",
              "      <th>AVG-1 &amp; 2</th>\n",
              "    </tr>\n",
              "  </thead>\n",
              "  <tbody>\n",
              "    <tr>\n",
              "      <th>15</th>\n",
              "      <td>ROHIT KUMAR</td>\n",
              "      <td>22102135022</td>\n",
              "      <td>5.51</td>\n",
              "      <td>7.46</td>\n",
              "      <td>6.485</td>\n",
              "    </tr>\n",
              "  </tbody>\n",
              "</table>\n",
              "</div>\n",
              "    <div class=\"colab-df-buttons\">\n",
              "\n",
              "  <div class=\"colab-df-container\">\n",
              "    <button class=\"colab-df-convert\" onclick=\"convertToInteractive('df-32746e8d-ed8d-4f90-bffb-1a7ec6058a0e')\"\n",
              "            title=\"Convert this dataframe to an interactive table.\"\n",
              "            style=\"display:none;\">\n",
              "\n",
              "  <svg xmlns=\"http://www.w3.org/2000/svg\" height=\"24px\" viewBox=\"0 -960 960 960\">\n",
              "    <path d=\"M120-120v-720h720v720H120Zm60-500h600v-160H180v160Zm220 220h160v-160H400v160Zm0 220h160v-160H400v160ZM180-400h160v-160H180v160Zm440 0h160v-160H620v160ZM180-180h160v-160H180v160Zm440 0h160v-160H620v160Z\"/>\n",
              "  </svg>\n",
              "    </button>\n",
              "\n",
              "  <style>\n",
              "    .colab-df-container {\n",
              "      display:flex;\n",
              "      gap: 12px;\n",
              "    }\n",
              "\n",
              "    .colab-df-convert {\n",
              "      background-color: #E8F0FE;\n",
              "      border: none;\n",
              "      border-radius: 50%;\n",
              "      cursor: pointer;\n",
              "      display: none;\n",
              "      fill: #1967D2;\n",
              "      height: 32px;\n",
              "      padding: 0 0 0 0;\n",
              "      width: 32px;\n",
              "    }\n",
              "\n",
              "    .colab-df-convert:hover {\n",
              "      background-color: #E2EBFA;\n",
              "      box-shadow: 0px 1px 2px rgba(60, 64, 67, 0.3), 0px 1px 3px 1px rgba(60, 64, 67, 0.15);\n",
              "      fill: #174EA6;\n",
              "    }\n",
              "\n",
              "    .colab-df-buttons div {\n",
              "      margin-bottom: 4px;\n",
              "    }\n",
              "\n",
              "    [theme=dark] .colab-df-convert {\n",
              "      background-color: #3B4455;\n",
              "      fill: #D2E3FC;\n",
              "    }\n",
              "\n",
              "    [theme=dark] .colab-df-convert:hover {\n",
              "      background-color: #434B5C;\n",
              "      box-shadow: 0px 1px 3px 1px rgba(0, 0, 0, 0.15);\n",
              "      filter: drop-shadow(0px 1px 2px rgba(0, 0, 0, 0.3));\n",
              "      fill: #FFFFFF;\n",
              "    }\n",
              "  </style>\n",
              "\n",
              "    <script>\n",
              "      const buttonEl =\n",
              "        document.querySelector('#df-32746e8d-ed8d-4f90-bffb-1a7ec6058a0e button.colab-df-convert');\n",
              "      buttonEl.style.display =\n",
              "        google.colab.kernel.accessAllowed ? 'block' : 'none';\n",
              "\n",
              "      async function convertToInteractive(key) {\n",
              "        const element = document.querySelector('#df-32746e8d-ed8d-4f90-bffb-1a7ec6058a0e');\n",
              "        const dataTable =\n",
              "          await google.colab.kernel.invokeFunction('convertToInteractive',\n",
              "                                                    [key], {});\n",
              "        if (!dataTable) return;\n",
              "\n",
              "        const docLinkHtml = 'Like what you see? Visit the ' +\n",
              "          '<a target=\"_blank\" href=https://colab.research.google.com/notebooks/data_table.ipynb>data table notebook</a>'\n",
              "          + ' to learn more about interactive tables.';\n",
              "        element.innerHTML = '';\n",
              "        dataTable['output_type'] = 'display_data';\n",
              "        await google.colab.output.renderOutput(dataTable, element);\n",
              "        const docLink = document.createElement('div');\n",
              "        docLink.innerHTML = docLinkHtml;\n",
              "        element.appendChild(docLink);\n",
              "      }\n",
              "    </script>\n",
              "  </div>\n",
              "\n",
              "\n",
              "    </div>\n",
              "  </div>\n"
            ],
            "application/vnd.google.colaboratory.intrinsic+json": {
              "type": "dataframe",
              "summary": "{\n  \"name\": \"final[['Name','RegNo','SEM-1','SEM-2',\\\"AVG-1 & 2\\\"]]\",\n  \"rows\": 1,\n  \"fields\": [\n    {\n      \"column\": \"Name\",\n      \"properties\": {\n        \"dtype\": \"string\",\n        \"num_unique_values\": 1,\n        \"samples\": [\n          \"ROHIT KUMAR\"\n        ],\n        \"semantic_type\": \"\",\n        \"description\": \"\"\n      }\n    },\n    {\n      \"column\": \"RegNo\",\n      \"properties\": {\n        \"dtype\": \"number\",\n        \"std\": null,\n        \"min\": 22102135022,\n        \"max\": 22102135022,\n        \"num_unique_values\": 1,\n        \"samples\": [\n          22102135022\n        ],\n        \"semantic_type\": \"\",\n        \"description\": \"\"\n      }\n    },\n    {\n      \"column\": \"SEM-1\",\n      \"properties\": {\n        \"dtype\": \"number\",\n        \"std\": null,\n        \"min\": 5.51,\n        \"max\": 5.51,\n        \"num_unique_values\": 1,\n        \"samples\": [\n          5.51\n        ],\n        \"semantic_type\": \"\",\n        \"description\": \"\"\n      }\n    },\n    {\n      \"column\": \"SEM-2\",\n      \"properties\": {\n        \"dtype\": \"number\",\n        \"std\": null,\n        \"min\": 7.46,\n        \"max\": 7.46,\n        \"num_unique_values\": 1,\n        \"samples\": [\n          7.46\n        ],\n        \"semantic_type\": \"\",\n        \"description\": \"\"\n      }\n    },\n    {\n      \"column\": \"AVG-1 & 2\",\n      \"properties\": {\n        \"dtype\": \"number\",\n        \"std\": null,\n        \"min\": 6.484999999999999,\n        \"max\": 6.484999999999999,\n        \"num_unique_values\": 1,\n        \"samples\": [\n          6.484999999999999\n        ],\n        \"semantic_type\": \"\",\n        \"description\": \"\"\n      }\n    }\n  ]\n}"
            }
          },
          "metadata": {},
          "execution_count": 6
        }
      ]
    },
    {
      "cell_type": "code",
      "source": [
        "from google.colab import files\n",
        "files.download(\"results_1&2.csv\")"
      ],
      "metadata": {
        "colab": {
          "base_uri": "https://localhost:8080/",
          "height": 17
        },
        "id": "g6W9jRZTGwXJ",
        "outputId": "65c46c02-cc08-4b6a-990e-3b11d55a1823"
      },
      "execution_count": 7,
      "outputs": [
        {
          "output_type": "display_data",
          "data": {
            "text/plain": [
              "<IPython.core.display.Javascript object>"
            ],
            "application/javascript": [
              "\n",
              "    async function download(id, filename, size) {\n",
              "      if (!google.colab.kernel.accessAllowed) {\n",
              "        return;\n",
              "      }\n",
              "      const div = document.createElement('div');\n",
              "      const label = document.createElement('label');\n",
              "      label.textContent = `Downloading \"${filename}\": `;\n",
              "      div.appendChild(label);\n",
              "      const progress = document.createElement('progress');\n",
              "      progress.max = size;\n",
              "      div.appendChild(progress);\n",
              "      document.body.appendChild(div);\n",
              "\n",
              "      const buffers = [];\n",
              "      let downloaded = 0;\n",
              "\n",
              "      const channel = await google.colab.kernel.comms.open(id);\n",
              "      // Send a message to notify the kernel that we're ready.\n",
              "      channel.send({})\n",
              "\n",
              "      for await (const message of channel.messages) {\n",
              "        // Send a message to notify the kernel that we're ready.\n",
              "        channel.send({})\n",
              "        if (message.buffers) {\n",
              "          for (const buffer of message.buffers) {\n",
              "            buffers.push(buffer);\n",
              "            downloaded += buffer.byteLength;\n",
              "            progress.value = downloaded;\n",
              "          }\n",
              "        }\n",
              "      }\n",
              "      const blob = new Blob(buffers, {type: 'application/binary'});\n",
              "      const a = document.createElement('a');\n",
              "      a.href = window.URL.createObjectURL(blob);\n",
              "      a.download = filename;\n",
              "      div.appendChild(a);\n",
              "      a.click();\n",
              "      div.remove();\n",
              "    }\n",
              "  "
            ]
          },
          "metadata": {}
        },
        {
          "output_type": "display_data",
          "data": {
            "text/plain": [
              "<IPython.core.display.Javascript object>"
            ],
            "application/javascript": [
              "download(\"download_4d94f789-2f02-43a2-84db-c06b885c82f7\", \"results_1&2.csv\", 1315)"
            ]
          },
          "metadata": {}
        }
      ]
    }
  ]
}