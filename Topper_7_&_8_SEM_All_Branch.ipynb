{
  "nbformat": 4,
  "nbformat_minor": 0,
  "metadata": {
    "colab": {
      "provenance": []
    },
    "kernelspec": {
      "name": "python3",
      "display_name": "Python 3"
    },
    "language_info": {
      "name": "python"
    }
  },
  "cells": [
    {
      "cell_type": "markdown",
      "source": [
        " **To Run this Press Ctrl+F9**"
      ],
      "metadata": {
        "id": "ZqEKUNvfPq5M"
      }
    },
    {
      "cell_type": "code",
      "execution_count": null,
      "metadata": {
        "colab": {
          "base_uri": "https://localhost:8080/"
        },
        "id": "bvv4R13i8kEE",
        "outputId": "d5666bb7-e458-46b7-c399-49c62e6bd3ff"
      },
      "outputs": [
        {
          "name": "stdout",
          "output_type": "stream",
          "text": [
            "Enter the Starting Reg_no: 19102135001\n",
            "Enter the Ending Reg_no: 19102135040\n"
          ]
        }
      ],
      "source": [
        "import requests\n",
        "from bs4 import BeautifulSoup\n",
        "import pandas as pd\n",
        "Student_Name=[]\n",
        "Reg_no=[]\n",
        "SEM=[]\n",
        "SGPA=[]\n",
        "CGPA=[]\n",
        "start_reg_no=int(input(\"Enter the Starting Reg_no: \"))   #19102135001\n",
        "end_reg_no=int(input(\"Enter the Ending Reg_no: \"))  #19102135040"
      ]
    },
    {
      "cell_type": "code",
      "source": [
        "# url=f\"http://results.beup.ac.in/ResultsBTech8thSem2023Pub.aspx?Sem=VIII&RegNo=19102135001\" #Edit this\n",
        "# req=requests.get(url)\n",
        "# content=BeautifulSoup(req.content,'html.parser')\n",
        "# tr=content.find_all(\"tr\")\n",
        "\n",
        "# reg_no=tr[7].find(\"span\").text.strip()\n",
        "# name=tr[8].find(\"span\").text.strip()\n",
        "# sgpa=tr[20].find(\"span\").text.strip() #26\n",
        "# sem=tr[21].find_all(\"td\")[4:13] #21\n",
        "# sem = [i.text.strip() for i in sem]\n",
        "# cgpa = sem[-1]\n",
        "# sem.pop()\n",
        "# # for i in range(len(tr)):\n",
        "# #   print(i,tr[i])\n",
        "\n",
        "# Student_Name.append(name)\n",
        "# Reg_no.append(reg_no)\n",
        "# SGPA.append(sgpa)\n",
        "# CGPA.append(cgpa)\n",
        "# SEM.append(sem)"
      ],
      "metadata": {
        "id": "VAbZN9tn5Peg"
      },
      "execution_count": null,
      "outputs": []
    },
    {
      "cell_type": "code",
      "source": [
        "for reg in range(start_reg_no,end_reg_no+1):\n",
        "  try:\n",
        "    url=f\"http://results.beup.ac.in/ResultsBTech8thSem2023Pub.aspx?Sem=VIII&RegNo={reg}\" #Edit this\n",
        "    req=requests.get(url)\n",
        "    content=BeautifulSoup(req.content,'html.parser')\n",
        "    tr=content.find_all(\"tr\")\n",
        "\n",
        "    reg_no=tr[7].find(\"span\").text.strip()\n",
        "    name=tr[8].find(\"span\").text.strip()\n",
        "    sgpa=tr[20].find(\"span\").text.strip() #26\n",
        "    sem=tr[21].find_all(\"td\")[4:13] #21\n",
        "    sem = [i.text.strip() for i in sem]\n",
        "    cgpa = sem[-1]\n",
        "    sem.pop()\n",
        "\n",
        "    Student_Name.append(name)\n",
        "    Reg_no.append(reg_no)\n",
        "    SGPA.append(sgpa)\n",
        "    CGPA.append(cgpa)\n",
        "    SEM.append(sem)\n",
        "\n",
        "    print(f\"Result for {reg}: DONE!\")\n",
        "  except:\n",
        "    print(f\"Result for {reg}: FAILED!\")\n",
        "    pass"
      ],
      "metadata": {
        "colab": {
          "base_uri": "https://localhost:8080/"
        },
        "id": "43VLfKhE_SsN",
        "outputId": "3ffae2ee-4bb0-40d5-958c-fb2ad15cc3e4"
      },
      "execution_count": null,
      "outputs": [
        {
          "output_type": "stream",
          "name": "stdout",
          "text": [
            "Result for 19102135001: DONE!\n",
            "Result for 19102135002: FAILED!\n",
            "Result for 19102135003: DONE!\n",
            "Result for 19102135004: DONE!\n",
            "Result for 19102135005: DONE!\n",
            "Result for 19102135006: DONE!\n",
            "Result for 19102135007: DONE!\n",
            "Result for 19102135008: DONE!\n",
            "Result for 19102135009: DONE!\n",
            "Result for 19102135010: DONE!\n",
            "Result for 19102135011: DONE!\n",
            "Result for 19102135012: DONE!\n",
            "Result for 19102135013: DONE!\n",
            "Result for 19102135014: DONE!\n",
            "Result for 19102135015: DONE!\n",
            "Result for 19102135016: DONE!\n",
            "Result for 19102135017: DONE!\n",
            "Result for 19102135018: DONE!\n",
            "Result for 19102135019: DONE!\n",
            "Result for 19102135020: DONE!\n",
            "Result for 19102135021: DONE!\n",
            "Result for 19102135022: DONE!\n",
            "Result for 19102135023: DONE!\n",
            "Result for 19102135024: DONE!\n",
            "Result for 19102135025: DONE!\n",
            "Result for 19102135026: DONE!\n",
            "Result for 19102135027: DONE!\n",
            "Result for 19102135028: DONE!\n",
            "Result for 19102135029: FAILED!\n",
            "Result for 19102135030: DONE!\n",
            "Result for 19102135031: DONE!\n",
            "Result for 19102135032: DONE!\n",
            "Result for 19102135033: DONE!\n",
            "Result for 19102135034: DONE!\n",
            "Result for 19102135035: DONE!\n",
            "Result for 19102135036: DONE!\n",
            "Result for 19102135037: DONE!\n",
            "Result for 19102135038: DONE!\n",
            "Result for 19102135039: DONE!\n",
            "Result for 19102135040: DONE!\n"
          ]
        }
      ]
    },
    {
      "cell_type": "code",
      "source": [
        "print(Student_Name)\n",
        "print(Reg_no)\n",
        "print(SGPA)\n",
        "print(CGPA)\n",
        "print(SEM)"
      ],
      "metadata": {
        "id": "YXHCoS4y_W0o",
        "colab": {
          "base_uri": "https://localhost:8080/"
        },
        "outputId": "12845afd-4a2d-4911-a4bd-92f943dc569b"
      },
      "execution_count": null,
      "outputs": [
        {
          "output_type": "stream",
          "name": "stdout",
          "text": [
            "['INDRAMANI KUMAR', 'SHRAVAN KUMAR', 'SHIVAM KUMAR', 'ADITYA RAJ', 'MANJAR RAJA', 'ABHIJEET KUMAR', 'AMAN ANAND', 'BIJAY KUMAR SHARMA', 'AURANGZEB ALAM', 'AYUSH KUMAR', 'GURU GOVIND SHARMA', 'DEEPAK PRAKASH', 'NISHANT KUMAR', 'ADARSH JYOTI', 'PRATIK KUMAR', 'NISHU KUMAR', 'RAMESH KUMAR', 'MD SAHEB RAHBAR', 'KUMAR DHEERAJ', 'RAKESH KUMAR', 'RAJ', 'CHANDAN KUMAR SHUKLA', 'SYED ADEEL HASAN', 'MD SAQUIB', 'KUSUM RANI', 'SHARAD SAMRIDDHA', 'RITU KUMARI', 'RAVI KUMAR', 'GAUTAM KUMAR', 'ABHISHEK KUMAR', 'KUNAL GOAP', 'SHIPALI KUMARI', 'HIMANSHU RAJ DAKSH', 'SURAJ KUMAR', 'AMAN KUMAR HIMANSHU', 'PANKAJ KUMAR', 'VISHAL SINGH', 'PRAKASH RANJAN']\n",
            "['19102135001', '19102135003', '19102135004', '19102135005', '19102135006', '19102135007', '19102135008', '19102135009', '19102135010', '19102135011', '19102135012', '19102135013', '19102135014', '19102135015', '19102135016', '19102135017', '19102135018', '19102135019', '19102135020', '19102135021', '19102135022', '19102135023', '19102135024', '19102135025', '19102135026', '19102135027', '19102135028', '19102135030', '19102135031', '19102135032', '19102135033', '19102135034', '19102135035', '19102135036', '19102135037', '19102135038', '19102135039', '19102135040']\n",
            "['7.33', '7.33', '7.83', '8.50', '7.50', '8.83', '8.17', '8.50', '7.50', '8.17', '7.83', '7.50', '7.00', '7.67', '8.17', '7.83', '7.33', '8.17', '8.33', '8.17', '7.50', '7.00', '7.67', '8.17', '7.67', '7.50', '7.33', '7.50', '7.50', '8.33', '6.83', '7.83', '8.33', '7.17', '7.83', '7.17', '7.50', '8.00']\n",
            "['7.48', '7.79', '8.04', '8.38', '7.80', '8.23', '7.96', '7.90', '7.62', '7.92', '7.85', '7.92', '7.65', '7.84', '7.97', '8.20', '7.43', '7.91', '7.82', '8.20', '7.73', '6.98', '7.66', '7.66', '8.02', '7.89', '8.21', '7.85', '7.83', '8.19', '6.95', '7.97', '8.05', '7.84', '7.82', '7.17', '7.75', '7.90']\n",
            "[['8.06', '7.90', '7.16', '8.91', '7.24', '7.43', '6.27', '7.33'], ['8.57', '8.22', '7.96', '9.00', '7.98', '7.31', '6.38', '7.33'], ['8.34', '8.00', '7.72', '8.74', '8.49', '7.11', '8.20', '7.83'], ['7.71', '8.61', '8.60', '9.09', '8.96', '8.11', '7.47', '8.50'], ['7.14', '8.32', '7.96', '9.09', '8.57', '7.48', '6.38', '7.50'], ['7.43', '8.24', '7.96', '9.00', '8.53', '7.39', '8.46', '8.83'], ['6.89', '8.61', '7.96', '9.09', '8.67', '7.59', '6.78', '8.17'], ['7.49', '7.95', '7.72', '8.74', '7.67', '7.50', '7.80', '8.50'], ['8.11', '8.00', '7.44', '8.48', '7.88', '7.31', '6.60', '7.50'], ['7.57', '8.37', '7.92', '9.09', '8.27', '7.67', '6.60', '8.17'], ['7.83', '7.61', '7.84', '9.00', '8.10', '7.44', '7.25', '7.83'], ['7.89', '8.24', '8.04', '9.00', '8.14', '7.31', '7.36', '7.50'], ['7.83', '8.00', '7.88', '9.00', '8.45', '5.96', '7.25', '7.00'], ['8.51', '8.34', '7.68', '9.09', '7.71', '7.06', '7.14', '7.67'], ['7.43', '8.61', '8.16', '9.22', '7.73', '7.31', '7.36', '8.17'], ['7.63', '8.83', '8.64', '9.35', '8.37', '7.54', '7.47', '7.83'], ['8.26', '8.34', '7.32', '9.00', '7.94', '5.44', '6.56', '7.33'], ['8.57', '8.00', '7.84', '9.22', '8.37', '7.31', '6.38', '8.17'], ['6.86', '8.34', '7.56', '9.00', '8.08', '7.26', '7.25', '8.33'], ['8.31', '8.00', '8.12', '9.00', '8.45', '7.50', '8.13', '8.17'], ['7.66', '8.27', '7.56', '8.91', '8.53', '7.52', '6.18', '7.50'], ['7.77', '7.68', '7.32', '8.22', '7.75', '5.11', '5.73', '7.00'], ['7.00', '7.80', '7.16', '8.57', '7.78', '7.39', '7.80', '7.67'], ['6.94', '8.41', '8.12', '9.09', '7.39', '7.11', '6.38', '8.17'], ['7.77', '8.15', '8.16', '9.09', '8.73', '7.85', '6.78', '7.67'], ['8.34', '8.10', '7.28', '8.83', '8.12', '7.30', '7.82', '7.50'], ['6.97', '8.34', '8.48', '8.87', '8.53', '7.87', '8.74', '7.33'], ['8.46', '8.00', '7.76', '9.09', '8.45', '6.56', '7.36', '7.50'], ['8.26', '8.00', '7.60', '8.91', '8.06', '7.11', '7.44', '7.50'], ['6.97', '8.61', '8.72', '9.39', '8.65', '8.00', '6.84', '8.33'], ['8.17', '7.66', '7.72', '8.83', '7.27', '4.70', '5.36', '6.83'], ['7.06', '8.00', '7.88', '8.65', '8.25', '7.87', '7.98', '7.83'], ['7.57', '8.24', '7.72', '9.00', '7.80', '7.30', '8.53', '8.33'], ['7.57', '8.61', '7.96', '8.74', '7.78', '7.26', '7.66', '7.17'], ['7.97', '7.80', '7.60', '8.65', '8.57', '7.33', '7.04', '7.83'], ['7.71', '8.00', '6.52', '9.09', '7.39', '5.46', '6.67', '7.17'], ['7.77', '7.95', '7.44', '8.91', '8.02', '7.26', '7.33', '7.50'], ['8.14', '8.61', '7.88', '9.00', '8.37', '7.70', '6.02', '8.00']]\n"
          ]
        }
      ]
    },
    {
      "cell_type": "code",
      "source": [
        "print(len(Student_Name))\n",
        "print(len(Reg_no))\n",
        "print(len(SGPA))\n",
        "print(len(CGPA))\n",
        "print(len(SEM))"
      ],
      "metadata": {
        "id": "8eEdJo79_YwU",
        "colab": {
          "base_uri": "https://localhost:8080/"
        },
        "outputId": "dfd73ceb-d2f7-4896-ba1e-fafe4ed9a54e"
      },
      "execution_count": null,
      "outputs": [
        {
          "output_type": "stream",
          "name": "stdout",
          "text": [
            "38\n",
            "38\n",
            "38\n",
            "38\n",
            "38\n"
          ]
        }
      ]
    },
    {
      "cell_type": "code",
      "source": [
        "# import csv\n",
        "# length = len(SEM)\n",
        "# with open('results.csv', 'w') as f:\n",
        "#   writer = csv.writer(f)\n",
        "#   writer.writerow(['RegNo', 'Name', 'CGPA', 'SGPA', 'SEM-1', 'SEM-2', 'SEM-3','SEM-4','SEM-5','SEM-6','SEM-7','SEM-8'])       [Orginal]\n",
        "#   for i in range(length):\n",
        "#     row = [Reg_no[i], Student_Name[i], CGPA[i], SGPA[i], *SEM[i]]\n",
        "#     writer.writerow(row)\n",
        "\n",
        "\n",
        "\n",
        "import csv\n",
        "length = len(SEM)\n",
        "with open('results.csv', 'w') as f:\n",
        "  writer = csv.writer(f)\n",
        "  writer.writerow(['RegNo', 'Name', 'CGPA','SGPA', 'SEM-1', 'SEM-2', 'SEM-3','SEM-4','SEM-5','SEM-6','SEM-7','SEM-8','AVG-7 & 8'])\n",
        "  for i in range(length):\n",
        "    row = [Reg_no[i], Student_Name[i], CGPA[i], SGPA[i], *SEM[i],(float(SEM[i][6])+float(SEM[i][7]))/2]\n",
        "    writer.writerow(row)"
      ],
      "metadata": {
        "id": "K0lH78ha_a1F"
      },
      "execution_count": null,
      "outputs": []
    },
    {
      "cell_type": "code",
      "source": [
        "# Topper in 7 & 8 Sem in this Branch\n",
        "import pandas as pd\n",
        "df=pd.read_csv(\"results.csv\")\n",
        "final=df.sort_values(by=\"AVG-7 & 8\",ascending=False)\n",
        "final[['Name','RegNo','SEM-7','SEM-8',\"AVG-7 & 8\"]].head(1)\n"
      ],
      "metadata": {
        "id": "_qohj0i1_e4G",
        "colab": {
          "base_uri": "https://localhost:8080/",
          "height": 81
        },
        "outputId": "c09a694c-118e-4323-9eee-10dd7345e07e"
      },
      "execution_count": null,
      "outputs": [
        {
          "output_type": "execute_result",
          "data": {
            "text/plain": [
              "             Name        RegNo  SEM-7  SEM-8  AVG-7 & 8\n",
              "5  ABHIJEET KUMAR  19102135007   8.46   8.83      8.645"
            ],
            "text/html": [
              "\n",
              "  <div id=\"df-b22b166e-847a-47bc-af26-edaf11a6dbd0\" class=\"colab-df-container\">\n",
              "    <div>\n",
              "<style scoped>\n",
              "    .dataframe tbody tr th:only-of-type {\n",
              "        vertical-align: middle;\n",
              "    }\n",
              "\n",
              "    .dataframe tbody tr th {\n",
              "        vertical-align: top;\n",
              "    }\n",
              "\n",
              "    .dataframe thead th {\n",
              "        text-align: right;\n",
              "    }\n",
              "</style>\n",
              "<table border=\"1\" class=\"dataframe\">\n",
              "  <thead>\n",
              "    <tr style=\"text-align: right;\">\n",
              "      <th></th>\n",
              "      <th>Name</th>\n",
              "      <th>RegNo</th>\n",
              "      <th>SEM-7</th>\n",
              "      <th>SEM-8</th>\n",
              "      <th>AVG-7 &amp; 8</th>\n",
              "    </tr>\n",
              "  </thead>\n",
              "  <tbody>\n",
              "    <tr>\n",
              "      <th>5</th>\n",
              "      <td>ABHIJEET KUMAR</td>\n",
              "      <td>19102135007</td>\n",
              "      <td>8.46</td>\n",
              "      <td>8.83</td>\n",
              "      <td>8.645</td>\n",
              "    </tr>\n",
              "  </tbody>\n",
              "</table>\n",
              "</div>\n",
              "    <div class=\"colab-df-buttons\">\n",
              "\n",
              "  <div class=\"colab-df-container\">\n",
              "    <button class=\"colab-df-convert\" onclick=\"convertToInteractive('df-b22b166e-847a-47bc-af26-edaf11a6dbd0')\"\n",
              "            title=\"Convert this dataframe to an interactive table.\"\n",
              "            style=\"display:none;\">\n",
              "\n",
              "  <svg xmlns=\"http://www.w3.org/2000/svg\" height=\"24px\" viewBox=\"0 -960 960 960\">\n",
              "    <path d=\"M120-120v-720h720v720H120Zm60-500h600v-160H180v160Zm220 220h160v-160H400v160Zm0 220h160v-160H400v160ZM180-400h160v-160H180v160Zm440 0h160v-160H620v160ZM180-180h160v-160H180v160Zm440 0h160v-160H620v160Z\"/>\n",
              "  </svg>\n",
              "    </button>\n",
              "\n",
              "  <style>\n",
              "    .colab-df-container {\n",
              "      display:flex;\n",
              "      gap: 12px;\n",
              "    }\n",
              "\n",
              "    .colab-df-convert {\n",
              "      background-color: #E8F0FE;\n",
              "      border: none;\n",
              "      border-radius: 50%;\n",
              "      cursor: pointer;\n",
              "      display: none;\n",
              "      fill: #1967D2;\n",
              "      height: 32px;\n",
              "      padding: 0 0 0 0;\n",
              "      width: 32px;\n",
              "    }\n",
              "\n",
              "    .colab-df-convert:hover {\n",
              "      background-color: #E2EBFA;\n",
              "      box-shadow: 0px 1px 2px rgba(60, 64, 67, 0.3), 0px 1px 3px 1px rgba(60, 64, 67, 0.15);\n",
              "      fill: #174EA6;\n",
              "    }\n",
              "\n",
              "    .colab-df-buttons div {\n",
              "      margin-bottom: 4px;\n",
              "    }\n",
              "\n",
              "    [theme=dark] .colab-df-convert {\n",
              "      background-color: #3B4455;\n",
              "      fill: #D2E3FC;\n",
              "    }\n",
              "\n",
              "    [theme=dark] .colab-df-convert:hover {\n",
              "      background-color: #434B5C;\n",
              "      box-shadow: 0px 1px 3px 1px rgba(0, 0, 0, 0.15);\n",
              "      filter: drop-shadow(0px 1px 2px rgba(0, 0, 0, 0.3));\n",
              "      fill: #FFFFFF;\n",
              "    }\n",
              "  </style>\n",
              "\n",
              "    <script>\n",
              "      const buttonEl =\n",
              "        document.querySelector('#df-b22b166e-847a-47bc-af26-edaf11a6dbd0 button.colab-df-convert');\n",
              "      buttonEl.style.display =\n",
              "        google.colab.kernel.accessAllowed ? 'block' : 'none';\n",
              "\n",
              "      async function convertToInteractive(key) {\n",
              "        const element = document.querySelector('#df-b22b166e-847a-47bc-af26-edaf11a6dbd0');\n",
              "        const dataTable =\n",
              "          await google.colab.kernel.invokeFunction('convertToInteractive',\n",
              "                                                    [key], {});\n",
              "        if (!dataTable) return;\n",
              "\n",
              "        const docLinkHtml = 'Like what you see? Visit the ' +\n",
              "          '<a target=\"_blank\" href=https://colab.research.google.com/notebooks/data_table.ipynb>data table notebook</a>'\n",
              "          + ' to learn more about interactive tables.';\n",
              "        element.innerHTML = '';\n",
              "        dataTable['output_type'] = 'display_data';\n",
              "        await google.colab.output.renderOutput(dataTable, element);\n",
              "        const docLink = document.createElement('div');\n",
              "        docLink.innerHTML = docLinkHtml;\n",
              "        element.appendChild(docLink);\n",
              "      }\n",
              "    </script>\n",
              "  </div>\n",
              "\n",
              "\n",
              "    </div>\n",
              "  </div>\n"
            ],
            "application/vnd.google.colaboratory.intrinsic+json": {
              "type": "dataframe",
              "summary": "{\n  \"name\": \"final[['Name','RegNo','SEM-7','SEM-8',\\\"AVG-7 & 8\\\"]]\",\n  \"rows\": 1,\n  \"fields\": [\n    {\n      \"column\": \"Name\",\n      \"properties\": {\n        \"dtype\": \"string\",\n        \"num_unique_values\": 1,\n        \"samples\": [\n          \"ABHIJEET KUMAR\"\n        ],\n        \"semantic_type\": \"\",\n        \"description\": \"\"\n      }\n    },\n    {\n      \"column\": \"RegNo\",\n      \"properties\": {\n        \"dtype\": \"number\",\n        \"std\": null,\n        \"min\": 19102135007,\n        \"max\": 19102135007,\n        \"num_unique_values\": 1,\n        \"samples\": [\n          19102135007\n        ],\n        \"semantic_type\": \"\",\n        \"description\": \"\"\n      }\n    },\n    {\n      \"column\": \"SEM-7\",\n      \"properties\": {\n        \"dtype\": \"number\",\n        \"std\": null,\n        \"min\": 8.46,\n        \"max\": 8.46,\n        \"num_unique_values\": 1,\n        \"samples\": [\n          8.46\n        ],\n        \"semantic_type\": \"\",\n        \"description\": \"\"\n      }\n    },\n    {\n      \"column\": \"SEM-8\",\n      \"properties\": {\n        \"dtype\": \"number\",\n        \"std\": null,\n        \"min\": 8.83,\n        \"max\": 8.83,\n        \"num_unique_values\": 1,\n        \"samples\": [\n          8.83\n        ],\n        \"semantic_type\": \"\",\n        \"description\": \"\"\n      }\n    },\n    {\n      \"column\": \"AVG-7 & 8\",\n      \"properties\": {\n        \"dtype\": \"number\",\n        \"std\": null,\n        \"min\": 8.645,\n        \"max\": 8.645,\n        \"num_unique_values\": 1,\n        \"samples\": [\n          8.645\n        ],\n        \"semantic_type\": \"\",\n        \"description\": \"\"\n      }\n    }\n  ]\n}"
            }
          },
          "metadata": {},
          "execution_count": 17
        }
      ]
    },
    {
      "cell_type": "code",
      "source": [
        "#To download the Excel file\n",
        "from google.colab import files\n",
        "files.download(\"results.csv\")"
      ],
      "metadata": {
        "colab": {
          "base_uri": "https://localhost:8080/",
          "height": 17
        },
        "id": "g6W9jRZTGwXJ",
        "outputId": "37a5f5b8-13c1-42c1-e6c8-b5874e036471"
      },
      "execution_count": null,
      "outputs": [
        {
          "output_type": "display_data",
          "data": {
            "text/plain": [
              "<IPython.core.display.Javascript object>"
            ],
            "application/javascript": [
              "\n",
              "    async function download(id, filename, size) {\n",
              "      if (!google.colab.kernel.accessAllowed) {\n",
              "        return;\n",
              "      }\n",
              "      const div = document.createElement('div');\n",
              "      const label = document.createElement('label');\n",
              "      label.textContent = `Downloading \"${filename}\": `;\n",
              "      div.appendChild(label);\n",
              "      const progress = document.createElement('progress');\n",
              "      progress.max = size;\n",
              "      div.appendChild(progress);\n",
              "      document.body.appendChild(div);\n",
              "\n",
              "      const buffers = [];\n",
              "      let downloaded = 0;\n",
              "\n",
              "      const channel = await google.colab.kernel.comms.open(id);\n",
              "      // Send a message to notify the kernel that we're ready.\n",
              "      channel.send({})\n",
              "\n",
              "      for await (const message of channel.messages) {\n",
              "        // Send a message to notify the kernel that we're ready.\n",
              "        channel.send({})\n",
              "        if (message.buffers) {\n",
              "          for (const buffer of message.buffers) {\n",
              "            buffers.push(buffer);\n",
              "            downloaded += buffer.byteLength;\n",
              "            progress.value = downloaded;\n",
              "          }\n",
              "        }\n",
              "      }\n",
              "      const blob = new Blob(buffers, {type: 'application/binary'});\n",
              "      const a = document.createElement('a');\n",
              "      a.href = window.URL.createObjectURL(blob);\n",
              "      a.download = filename;\n",
              "      div.appendChild(a);\n",
              "      a.click();\n",
              "      div.remove();\n",
              "    }\n",
              "  "
            ]
          },
          "metadata": {}
        },
        {
          "output_type": "display_data",
          "data": {
            "text/plain": [
              "<IPython.core.display.Javascript object>"
            ],
            "application/javascript": [
              "download(\"download_5659e8c7-dc33-4f8b-856f-d4e99f81c836\", \"results.csv\", 3314)"
            ]
          },
          "metadata": {}
        }
      ]
    }
  ]
}