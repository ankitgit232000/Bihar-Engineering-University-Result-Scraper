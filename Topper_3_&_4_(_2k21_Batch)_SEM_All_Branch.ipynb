{
  "nbformat": 4,
  "nbformat_minor": 0,
  "metadata": {
    "colab": {
      "provenance": []
    },
    "kernelspec": {
      "name": "python3",
      "display_name": "Python 3"
    },
    "language_info": {
      "name": "python"
    }
  },
  "cells": [
    {
      "cell_type": "markdown",
      "source": [
        "** To Run this Press Ctrl+F9**"
      ],
      "metadata": {
        "id": "ZqEKUNvfPq5M"
      }
    },
    {
      "cell_type": "code",
      "execution_count": 55,
      "metadata": {
        "colab": {
          "base_uri": "https://localhost:8080/"
        },
        "id": "bvv4R13i8kEE",
        "outputId": "0b157169-6883-4c85-a2f4-67ccf4105b78"
      },
      "outputs": [
        {
          "name": "stdout",
          "output_type": "stream",
          "text": [
            "Enter Start reg_no 21102135001\n",
            "Enter End reg_no 21102135040\n"
          ]
        }
      ],
      "source": [
        "import requests\n",
        "from bs4 import BeautifulSoup\n",
        "import pandas as pd\n",
        "Student_Name=[]\n",
        "Reg_no=[]\n",
        "SEM=[]\n",
        "SGPA=[]\n",
        "CGPA=[]\n",
        "start_reg_no=int(input(\"Enter Start reg_no \"))  #21102135001\n",
        "end_reg_no=int(input(\"Enter End reg_no \"))      #21102135040"
      ]
    },
    {
      "cell_type": "code",
      "source": [
        "for reg in range(start_reg_no,end_reg_no+1):\n",
        "  try:\n",
        "    url=f\"http://results.beup.ac.in/ResultsBTech4thSem2023_B2021Pub.aspx?Sem=IV&RegNo={reg}\" #Edit this\n",
        "    req=requests.get(url)\n",
        "    content=BeautifulSoup(req.content,'html.parser')\n",
        "    tr=content.find_all(\"tr\")\n",
        "    # for i in range(len(tr)):\n",
        "    #   print(i,tr[i])\n",
        "    # break\n",
        "\n",
        "    reg_no=tr[7].find(\"span\").text.strip()\n",
        "    name=tr[8].find(\"span\").text.strip()\n",
        "    sgpa=tr[23].find(\"span\").text.strip()\n",
        "    sem=tr[28].find_all(\"td\")\n",
        "    sem = [i.text.strip() for i in sem]\n",
        "    cgpa = sem[-1]\n",
        "    sem.pop()\n",
        "    # print(sem)\n",
        "    # break\n",
        "\n",
        "    Student_Name.append(name)\n",
        "    Reg_no.append(reg_no)\n",
        "    SGPA.append(sgpa)\n",
        "    CGPA.append(cgpa)\n",
        "    SEM.append(sem)\n",
        "\n",
        "\n",
        "\n",
        "    print(f\"Result for {reg}: DONE!\")\n",
        "  except:\n",
        "    print(f\"Result for {reg}: FAILED!\")\n",
        "    pass"
      ],
      "metadata": {
        "colab": {
          "base_uri": "https://localhost:8080/"
        },
        "id": "43VLfKhE_SsN",
        "outputId": "ff75ae0f-c471-4ae4-b970-93a818420f92"
      },
      "execution_count": 56,
      "outputs": [
        {
          "output_type": "stream",
          "name": "stdout",
          "text": [
            "Result for 21102135001: FAILED!\n",
            "Result for 21102135002: DONE!\n",
            "Result for 21102135003: DONE!\n",
            "Result for 21102135004: DONE!\n",
            "Result for 21102135005: FAILED!\n",
            "Result for 21102135006: DONE!\n",
            "Result for 21102135007: FAILED!\n",
            "Result for 21102135008: DONE!\n",
            "Result for 21102135009: DONE!\n",
            "Result for 21102135010: FAILED!\n",
            "Result for 21102135011: FAILED!\n",
            "Result for 21102135012: FAILED!\n",
            "Result for 21102135013: FAILED!\n",
            "Result for 21102135014: DONE!\n",
            "Result for 21102135015: DONE!\n",
            "Result for 21102135016: DONE!\n",
            "Result for 21102135017: DONE!\n",
            "Result for 21102135018: DONE!\n",
            "Result for 21102135019: DONE!\n",
            "Result for 21102135020: DONE!\n",
            "Result for 21102135021: DONE!\n",
            "Result for 21102135022: DONE!\n",
            "Result for 21102135023: DONE!\n",
            "Result for 21102135024: DONE!\n",
            "Result for 21102135025: FAILED!\n",
            "Result for 21102135026: DONE!\n",
            "Result for 21102135027: DONE!\n",
            "Result for 21102135028: DONE!\n",
            "Result for 21102135029: DONE!\n",
            "Result for 21102135030: DONE!\n",
            "Result for 21102135031: DONE!\n",
            "Result for 21102135032: DONE!\n",
            "Result for 21102135033: DONE!\n",
            "Result for 21102135034: DONE!\n",
            "Result for 21102135035: DONE!\n",
            "Result for 21102135036: FAILED!\n",
            "Result for 21102135037: FAILED!\n",
            "Result for 21102135038: FAILED!\n",
            "Result for 21102135039: FAILED!\n",
            "Result for 21102135040: FAILED!\n"
          ]
        }
      ]
    },
    {
      "cell_type": "code",
      "source": [
        "print(Student_Name)\n",
        "print(Reg_no)\n",
        "print(SGPA)\n",
        "print(CGPA)\n",
        "print(SEM)"
      ],
      "metadata": {
        "id": "YXHCoS4y_W0o",
        "colab": {
          "base_uri": "https://localhost:8080/"
        },
        "outputId": "dd98e7d5-aa6b-4b9c-d0f2-655f33fed442"
      },
      "execution_count": 57,
      "outputs": [
        {
          "output_type": "stream",
          "name": "stdout",
          "text": [
            "['AVANI KUMARI', 'RAJBIR RAJ', 'ANSHUMAN MISHRA', 'JAY PRAKASH KUAMR', 'RAHUL KUMAR', 'RITIK KUMAR', 'NIRAJ KUMAR', 'SARVESH KUMAR', 'KAMINI KUMARI', 'ABHIJEET KUMAR', 'SAGAR KUMAR', 'VIKAS KUMAR SINGH', 'SAURAV SUMAN', 'PRABHAT KUMAR', 'ANSHU RAJ', 'PRIYANSHU KUMAR', 'RISHI KUMAR', 'RATNESH KUMAR', 'VIJAY KUMAR', 'BIKKI KUMAR', 'SUKANYA', 'ANJU KUMARI', 'KUNAL KUAMR', 'SMRITI KUMARI', 'BADAL KUMAR', 'GAUTAM KUMAR ROY', 'SHAILESH KUMAR']\n",
            "['21102135002', '21102135003', '21102135004', '21102135006', '21102135008', '21102135009', '21102135014', '21102135015', '21102135016', '21102135017', '21102135018', '21102135019', '21102135020', '21102135021', '21102135022', '21102135023', '21102135024', '21102135026', '21102135027', '21102135028', '21102135029', '21102135030', '21102135031', '21102135032', '21102135033', '21102135034', '21102135035']\n",
            "['4.96', '5.78', '5.22', '5.87', '5.74', '4.48', '7.22', '7.30', '5.48', '5.87', '5.52', '5.33', '3.63', '5.17', '2.70', '6.22', '4.96', '6.22', '5.91', '4.57', '4.48', '2.91', '4.48', '2.87', '6.39', '5.26', '3.09']\n",
            "['N/A', '6.72', '5.74', '6.46', '6.09', '4.71', '7.96', '6.56', '5.91', '5.63', '6.11', '6.13', '4.97', '6.15', '5.21', '6.35', '5.42', '6.26', '5.30', '5.64', '5.36', '4.26', '6.33', '4.58', '6.70', '5.20', '4.42']\n",
            "[['N/A', 'N/A', '4.96', '4.96', 'NA', 'NA', 'NA', 'NA'], ['6.37', '7.59', '7.12', '5.78', 'NA', 'NA', 'NA', 'NA'], ['2.71', '7.98', '6.52', '5.22', 'NA', 'NA', 'NA', 'NA'], ['6.54', '7.66', '5.96', '5.87', 'NA', 'NA', 'NA', 'NA'], ['5.06', '6.68', '6.64', '5.74', 'NA', 'NA', 'NA', 'NA'], ['2.71', '7.51', '4.04', '4.48', 'NA', 'NA', 'NA', 'NA'], ['8.51', '8.49', '7.84', '7.22', 'NA', 'NA', 'NA', 'NA'], ['4.14', '8.80', '5.72', '7.30', 'NA', 'NA', 'NA', 'NA'], ['6.83', '7.83', '4.08', '5.48', 'NA', 'NA', 'NA', 'NA'], ['2.60', '7.93', '5.64', '5.87', 'NA', 'NA', 'NA', 'NA'], ['4.60', '8.37', '5.84', '5.52', 'NA', 'NA', 'NA', 'NA'], ['5.86', '7.37', '6.04', '5.33', 'NA', 'NA', 'NA', 'NA'], ['6.37', '6.27', '4.16', '3.63', 'NA', 'NA', 'NA', 'NA'], ['6.54', '7.24', '5.88', '5.17', 'NA', 'NA', 'NA', 'NA'], ['3.80', '7.66', '6.52', '2.70', 'NA', 'NA', 'NA', 'NA'], ['6.54', '7.15', '5.68', '6.22', 'NA', 'NA', 'NA', 'NA'], ['6.03', '7.95', '3.36', '4.96', 'NA', 'NA', 'NA', 'NA'], ['5.40', '6.44', '6.76', '6.22', 'NA', 'NA', 'NA', 'NA'], ['4.03', '7.22', '4.04', '5.91', 'NA', 'NA', 'NA', 'NA'], ['6.37', '7.20', '4.84', '4.57', 'NA', 'NA', 'NA', 'NA'], ['3.74', '7.80', '5.28', '4.48', 'NA', 'NA', 'NA', 'NA'], ['3.97', '6.49', '3.88', '2.91', 'NA', 'NA', 'NA', 'NA'], ['6.60', '7.80', '6.64', '4.48', 'NA', 'NA', 'NA', 'NA'], ['5.23', '7.46', '3.32', '2.87', 'NA', 'NA', 'NA', 'NA'], ['6.89', '7.95', '5.84', '6.39', 'NA', 'NA', 'NA', 'NA'], ['5.40', '6.56', '3.88', '5.26', 'NA', 'NA', 'NA', 'NA'], ['4.03', '6.71', '4.04', '3.09', 'NA', 'NA', 'NA', 'NA']]\n"
          ]
        }
      ]
    },
    {
      "cell_type": "code",
      "source": [
        "print(len(Student_Name))\n",
        "print(len(Reg_no))\n",
        "print(len(SGPA))\n",
        "print(len(CGPA))\n",
        "print(len(SEM))"
      ],
      "metadata": {
        "id": "8eEdJo79_YwU",
        "colab": {
          "base_uri": "https://localhost:8080/"
        },
        "outputId": "42f04236-5d50-4b75-fcf1-01bc2c55d02f"
      },
      "execution_count": 58,
      "outputs": [
        {
          "output_type": "stream",
          "name": "stdout",
          "text": [
            "27\n",
            "27\n",
            "27\n",
            "27\n",
            "27\n"
          ]
        }
      ]
    },
    {
      "cell_type": "code",
      "source": [
        "# import csv\n",
        "# length = len(SEM)\n",
        "# with open('results.csv', 'w') as f:\n",
        "#   writer = csv.writer(f)\n",
        "#   writer.writerow(['RegNo', 'Name', 'CGPA', 'SGPA', 'SEM-1', 'SEM-2', 'SEM-3','SEM-4','SEM-5','SEM-6','SEM-7','SEM-8'])       #[Orginal]\n",
        "#   for i in range(length):\n",
        "#     row = [Reg_no[i], Student_Name[i], CGPA[i], SGPA[i], *SEM[i]]\n",
        "#     writer.writerow(row)\n",
        "\n",
        "\n",
        "\n",
        "import csv\n",
        "length = len(SEM)\n",
        "with open('results_3&4.csv', 'w') as f:\n",
        "  writer = csv.writer(f)\n",
        "  writer.writerow(['RegNo', 'Name', 'CGPA','SGPA', 'SEM-1', 'SEM-2', 'SEM-3','SEM-4','SEM-5','SEM-6','SEM-7','SEM-8','AVG-3 & 4'])\n",
        "  for i in range(length):\n",
        "    print(i,SEM[i])\n",
        "    if SEM[i][2]=='NA' or SEM[i][3]=='NA':\n",
        "\n",
        "      continue\n",
        "\n",
        "    row = [Reg_no[i], Student_Name[i], CGPA[i], SGPA[i], *SEM[i],(float(SEM[i][2])+float(SEM[i][3]))/2]\n",
        "    writer.writerow(row)\n"
      ],
      "metadata": {
        "id": "K0lH78ha_a1F",
        "colab": {
          "base_uri": "https://localhost:8080/"
        },
        "outputId": "00c6d003-e80c-4aaf-c53b-fb2e16d871cd"
      },
      "execution_count": 59,
      "outputs": [
        {
          "output_type": "stream",
          "name": "stdout",
          "text": [
            "0 ['N/A', 'N/A', '4.96', '4.96', 'NA', 'NA', 'NA', 'NA']\n",
            "1 ['6.37', '7.59', '7.12', '5.78', 'NA', 'NA', 'NA', 'NA']\n",
            "2 ['2.71', '7.98', '6.52', '5.22', 'NA', 'NA', 'NA', 'NA']\n",
            "3 ['6.54', '7.66', '5.96', '5.87', 'NA', 'NA', 'NA', 'NA']\n",
            "4 ['5.06', '6.68', '6.64', '5.74', 'NA', 'NA', 'NA', 'NA']\n",
            "5 ['2.71', '7.51', '4.04', '4.48', 'NA', 'NA', 'NA', 'NA']\n",
            "6 ['8.51', '8.49', '7.84', '7.22', 'NA', 'NA', 'NA', 'NA']\n",
            "7 ['4.14', '8.80', '5.72', '7.30', 'NA', 'NA', 'NA', 'NA']\n",
            "8 ['6.83', '7.83', '4.08', '5.48', 'NA', 'NA', 'NA', 'NA']\n",
            "9 ['2.60', '7.93', '5.64', '5.87', 'NA', 'NA', 'NA', 'NA']\n",
            "10 ['4.60', '8.37', '5.84', '5.52', 'NA', 'NA', 'NA', 'NA']\n",
            "11 ['5.86', '7.37', '6.04', '5.33', 'NA', 'NA', 'NA', 'NA']\n",
            "12 ['6.37', '6.27', '4.16', '3.63', 'NA', 'NA', 'NA', 'NA']\n",
            "13 ['6.54', '7.24', '5.88', '5.17', 'NA', 'NA', 'NA', 'NA']\n",
            "14 ['3.80', '7.66', '6.52', '2.70', 'NA', 'NA', 'NA', 'NA']\n",
            "15 ['6.54', '7.15', '5.68', '6.22', 'NA', 'NA', 'NA', 'NA']\n",
            "16 ['6.03', '7.95', '3.36', '4.96', 'NA', 'NA', 'NA', 'NA']\n",
            "17 ['5.40', '6.44', '6.76', '6.22', 'NA', 'NA', 'NA', 'NA']\n",
            "18 ['4.03', '7.22', '4.04', '5.91', 'NA', 'NA', 'NA', 'NA']\n",
            "19 ['6.37', '7.20', '4.84', '4.57', 'NA', 'NA', 'NA', 'NA']\n",
            "20 ['3.74', '7.80', '5.28', '4.48', 'NA', 'NA', 'NA', 'NA']\n",
            "21 ['3.97', '6.49', '3.88', '2.91', 'NA', 'NA', 'NA', 'NA']\n",
            "22 ['6.60', '7.80', '6.64', '4.48', 'NA', 'NA', 'NA', 'NA']\n",
            "23 ['5.23', '7.46', '3.32', '2.87', 'NA', 'NA', 'NA', 'NA']\n",
            "24 ['6.89', '7.95', '5.84', '6.39', 'NA', 'NA', 'NA', 'NA']\n",
            "25 ['5.40', '6.56', '3.88', '5.26', 'NA', 'NA', 'NA', 'NA']\n",
            "26 ['4.03', '6.71', '4.04', '3.09', 'NA', 'NA', 'NA', 'NA']\n"
          ]
        }
      ]
    },
    {
      "cell_type": "code",
      "source": [
        "# Topper in 3 & 4 Sem in this Branch\n",
        "import pandas as pd\n",
        "df=pd.read_csv(\"results_3&4.csv\")\n",
        "final=df.sort_values(by=\"AVG-3 & 4\",ascending=False)\n",
        "final[['Name','RegNo','SEM-3','SEM-4',\"AVG-3 & 4\"]].head(1)\n"
      ],
      "metadata": {
        "id": "_qohj0i1_e4G",
        "colab": {
          "base_uri": "https://localhost:8080/",
          "height": 81
        },
        "outputId": "428b8cf5-ffd8-46bc-ce9d-a4e43221e7e2"
      },
      "execution_count": 60,
      "outputs": [
        {
          "output_type": "execute_result",
          "data": {
            "text/plain": [
              "          Name        RegNo  SEM-3  SEM-4  AVG-3 & 4\n",
              "6  NIRAJ KUMAR  21102135014   7.84   7.22       7.53"
            ],
            "text/html": [
              "\n",
              "  <div id=\"df-15801a55-8816-413e-9fb6-8fa08a6decb9\" class=\"colab-df-container\">\n",
              "    <div>\n",
              "<style scoped>\n",
              "    .dataframe tbody tr th:only-of-type {\n",
              "        vertical-align: middle;\n",
              "    }\n",
              "\n",
              "    .dataframe tbody tr th {\n",
              "        vertical-align: top;\n",
              "    }\n",
              "\n",
              "    .dataframe thead th {\n",
              "        text-align: right;\n",
              "    }\n",
              "</style>\n",
              "<table border=\"1\" class=\"dataframe\">\n",
              "  <thead>\n",
              "    <tr style=\"text-align: right;\">\n",
              "      <th></th>\n",
              "      <th>Name</th>\n",
              "      <th>RegNo</th>\n",
              "      <th>SEM-3</th>\n",
              "      <th>SEM-4</th>\n",
              "      <th>AVG-3 &amp; 4</th>\n",
              "    </tr>\n",
              "  </thead>\n",
              "  <tbody>\n",
              "    <tr>\n",
              "      <th>6</th>\n",
              "      <td>NIRAJ KUMAR</td>\n",
              "      <td>21102135014</td>\n",
              "      <td>7.84</td>\n",
              "      <td>7.22</td>\n",
              "      <td>7.53</td>\n",
              "    </tr>\n",
              "  </tbody>\n",
              "</table>\n",
              "</div>\n",
              "    <div class=\"colab-df-buttons\">\n",
              "\n",
              "  <div class=\"colab-df-container\">\n",
              "    <button class=\"colab-df-convert\" onclick=\"convertToInteractive('df-15801a55-8816-413e-9fb6-8fa08a6decb9')\"\n",
              "            title=\"Convert this dataframe to an interactive table.\"\n",
              "            style=\"display:none;\">\n",
              "\n",
              "  <svg xmlns=\"http://www.w3.org/2000/svg\" height=\"24px\" viewBox=\"0 -960 960 960\">\n",
              "    <path d=\"M120-120v-720h720v720H120Zm60-500h600v-160H180v160Zm220 220h160v-160H400v160Zm0 220h160v-160H400v160ZM180-400h160v-160H180v160Zm440 0h160v-160H620v160ZM180-180h160v-160H180v160Zm440 0h160v-160H620v160Z\"/>\n",
              "  </svg>\n",
              "    </button>\n",
              "\n",
              "  <style>\n",
              "    .colab-df-container {\n",
              "      display:flex;\n",
              "      gap: 12px;\n",
              "    }\n",
              "\n",
              "    .colab-df-convert {\n",
              "      background-color: #E8F0FE;\n",
              "      border: none;\n",
              "      border-radius: 50%;\n",
              "      cursor: pointer;\n",
              "      display: none;\n",
              "      fill: #1967D2;\n",
              "      height: 32px;\n",
              "      padding: 0 0 0 0;\n",
              "      width: 32px;\n",
              "    }\n",
              "\n",
              "    .colab-df-convert:hover {\n",
              "      background-color: #E2EBFA;\n",
              "      box-shadow: 0px 1px 2px rgba(60, 64, 67, 0.3), 0px 1px 3px 1px rgba(60, 64, 67, 0.15);\n",
              "      fill: #174EA6;\n",
              "    }\n",
              "\n",
              "    .colab-df-buttons div {\n",
              "      margin-bottom: 4px;\n",
              "    }\n",
              "\n",
              "    [theme=dark] .colab-df-convert {\n",
              "      background-color: #3B4455;\n",
              "      fill: #D2E3FC;\n",
              "    }\n",
              "\n",
              "    [theme=dark] .colab-df-convert:hover {\n",
              "      background-color: #434B5C;\n",
              "      box-shadow: 0px 1px 3px 1px rgba(0, 0, 0, 0.15);\n",
              "      filter: drop-shadow(0px 1px 2px rgba(0, 0, 0, 0.3));\n",
              "      fill: #FFFFFF;\n",
              "    }\n",
              "  </style>\n",
              "\n",
              "    <script>\n",
              "      const buttonEl =\n",
              "        document.querySelector('#df-15801a55-8816-413e-9fb6-8fa08a6decb9 button.colab-df-convert');\n",
              "      buttonEl.style.display =\n",
              "        google.colab.kernel.accessAllowed ? 'block' : 'none';\n",
              "\n",
              "      async function convertToInteractive(key) {\n",
              "        const element = document.querySelector('#df-15801a55-8816-413e-9fb6-8fa08a6decb9');\n",
              "        const dataTable =\n",
              "          await google.colab.kernel.invokeFunction('convertToInteractive',\n",
              "                                                    [key], {});\n",
              "        if (!dataTable) return;\n",
              "\n",
              "        const docLinkHtml = 'Like what you see? Visit the ' +\n",
              "          '<a target=\"_blank\" href=https://colab.research.google.com/notebooks/data_table.ipynb>data table notebook</a>'\n",
              "          + ' to learn more about interactive tables.';\n",
              "        element.innerHTML = '';\n",
              "        dataTable['output_type'] = 'display_data';\n",
              "        await google.colab.output.renderOutput(dataTable, element);\n",
              "        const docLink = document.createElement('div');\n",
              "        docLink.innerHTML = docLinkHtml;\n",
              "        element.appendChild(docLink);\n",
              "      }\n",
              "    </script>\n",
              "  </div>\n",
              "\n",
              "\n",
              "    </div>\n",
              "  </div>\n"
            ],
            "application/vnd.google.colaboratory.intrinsic+json": {
              "type": "dataframe",
              "summary": "{\n  \"name\": \"final[['Name','RegNo','SEM-3','SEM-4',\\\"AVG-3 & 4\\\"]]\",\n  \"rows\": 1,\n  \"fields\": [\n    {\n      \"column\": \"Name\",\n      \"properties\": {\n        \"dtype\": \"string\",\n        \"num_unique_values\": 1,\n        \"samples\": [\n          \"NIRAJ KUMAR\"\n        ],\n        \"semantic_type\": \"\",\n        \"description\": \"\"\n      }\n    },\n    {\n      \"column\": \"RegNo\",\n      \"properties\": {\n        \"dtype\": \"number\",\n        \"std\": null,\n        \"min\": 21102135014,\n        \"max\": 21102135014,\n        \"num_unique_values\": 1,\n        \"samples\": [\n          21102135014\n        ],\n        \"semantic_type\": \"\",\n        \"description\": \"\"\n      }\n    },\n    {\n      \"column\": \"SEM-3\",\n      \"properties\": {\n        \"dtype\": \"number\",\n        \"std\": null,\n        \"min\": 7.84,\n        \"max\": 7.84,\n        \"num_unique_values\": 1,\n        \"samples\": [\n          7.84\n        ],\n        \"semantic_type\": \"\",\n        \"description\": \"\"\n      }\n    },\n    {\n      \"column\": \"SEM-4\",\n      \"properties\": {\n        \"dtype\": \"number\",\n        \"std\": null,\n        \"min\": 7.22,\n        \"max\": 7.22,\n        \"num_unique_values\": 1,\n        \"samples\": [\n          7.22\n        ],\n        \"semantic_type\": \"\",\n        \"description\": \"\"\n      }\n    },\n    {\n      \"column\": \"AVG-3 & 4\",\n      \"properties\": {\n        \"dtype\": \"number\",\n        \"std\": null,\n        \"min\": 7.529999999999999,\n        \"max\": 7.529999999999999,\n        \"num_unique_values\": 1,\n        \"samples\": [\n          7.529999999999999\n        ],\n        \"semantic_type\": \"\",\n        \"description\": \"\"\n      }\n    }\n  ]\n}"
            }
          },
          "metadata": {},
          "execution_count": 60
        }
      ]
    },
    {
      "cell_type": "code",
      "source": [
        "from google.colab import files\n",
        "files.download(\"results_3&4.csv\")"
      ],
      "metadata": {
        "colab": {
          "base_uri": "https://localhost:8080/",
          "height": 17
        },
        "id": "g6W9jRZTGwXJ",
        "outputId": "3629a67d-d477-49fb-b515-4343c9d878eb"
      },
      "execution_count": 61,
      "outputs": [
        {
          "output_type": "display_data",
          "data": {
            "text/plain": [
              "<IPython.core.display.Javascript object>"
            ],
            "application/javascript": [
              "\n",
              "    async function download(id, filename, size) {\n",
              "      if (!google.colab.kernel.accessAllowed) {\n",
              "        return;\n",
              "      }\n",
              "      const div = document.createElement('div');\n",
              "      const label = document.createElement('label');\n",
              "      label.textContent = `Downloading \"${filename}\": `;\n",
              "      div.appendChild(label);\n",
              "      const progress = document.createElement('progress');\n",
              "      progress.max = size;\n",
              "      div.appendChild(progress);\n",
              "      document.body.appendChild(div);\n",
              "\n",
              "      const buffers = [];\n",
              "      let downloaded = 0;\n",
              "\n",
              "      const channel = await google.colab.kernel.comms.open(id);\n",
              "      // Send a message to notify the kernel that we're ready.\n",
              "      channel.send({})\n",
              "\n",
              "      for await (const message of channel.messages) {\n",
              "        // Send a message to notify the kernel that we're ready.\n",
              "        channel.send({})\n",
              "        if (message.buffers) {\n",
              "          for (const buffer of message.buffers) {\n",
              "            buffers.push(buffer);\n",
              "            downloaded += buffer.byteLength;\n",
              "            progress.value = downloaded;\n",
              "          }\n",
              "        }\n",
              "      }\n",
              "      const blob = new Blob(buffers, {type: 'application/binary'});\n",
              "      const a = document.createElement('a');\n",
              "      a.href = window.URL.createObjectURL(blob);\n",
              "      a.download = filename;\n",
              "      div.appendChild(a);\n",
              "      a.click();\n",
              "      div.remove();\n",
              "    }\n",
              "  "
            ]
          },
          "metadata": {}
        },
        {
          "output_type": "display_data",
          "data": {
            "text/plain": [
              "<IPython.core.display.Javascript object>"
            ],
            "application/javascript": [
              "download(\"download_84a8408b-9ef1-4922-8b99-b782725a7492\", \"results_3&4.csv\", 2187)"
            ]
          },
          "metadata": {}
        }
      ]
    }
  ]
}